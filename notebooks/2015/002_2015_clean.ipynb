{
 "cells": [
  {
   "cell_type": "code",
   "execution_count": 1,
   "id": "fa70c7cf",
   "metadata": {},
   "outputs": [
    {
     "name": "stderr",
     "output_type": "stream",
     "text": [
      "2025-05-21 23:23:00,198 - INFO - Inicio del notebook de limpieza y transformación para 2015.csv (002_2015_clean.ipynb).\n"
     ]
    }
   ],
   "source": [
    "import pandas as pd\n",
    "import numpy as np\n",
    "import logging\n",
    "import os # Para basename en logs si es necesario\n",
    "\n",
    "# Configuración de logging (puedes ajustar el nombre del archivo de log)\n",
    "logging.basicConfig(\n",
    "    level=logging.INFO,\n",
    "    format='%(asctime)s - %(levelname)s - %(message)s',\n",
    "    handlers=[\n",
    "        logging.FileHandler(\"002_2015_clean.log\"), # Log específico para limpieza de 2015\n",
    "        logging.StreamHandler()\n",
    "    ]\n",
    ")\n",
    "\n",
    "logging.info(\"Inicio del notebook de limpieza y transformación para 2015.csv (002_2015_clean.ipynb).\")\n",
    "\n",
    "# Opciones de Pandas (pueden ser útiles para inspeccionar)\n",
    "pd.set_option('display.max_columns', None)\n",
    "pd.set_option('display.max_rows', 100)\n",
    "pd.set_option('display.float_format', lambda x: '%.3f' % x)"
   ]
  },
  {
   "cell_type": "code",
   "execution_count": 2,
   "id": "0b386c8c",
   "metadata": {},
   "outputs": [
    {
     "name": "stderr",
     "output_type": "stream",
     "text": [
      "2025-05-21 23:23:00,205 - INFO - Ruta del archivo raw a cargar: /home/nicolas/Escritorio/workshops_ETL/workshop_3/data/raw/2015.csv\n",
      "2025-05-21 23:23:00,206 - INFO - Intentando cargar el archivo CSV: 2015.csv\n",
      "2025-05-21 23:23:00,210 - INFO - Archivo 2015.csv cargado exitosamente.\n",
      "2025-05-21 23:23:00,210 - INFO - El DataFrame df_2015_raw tiene 158 filas y 12 columnas.\n",
      "2025-05-21 23:23:00,211 - INFO - Copia del DataFrame creada como df_2015_clean para transformaciones.\n"
     ]
    }
   ],
   "source": [
    "# --- Definición de la ruta al archivo ---\n",
    "file_path_2015_raw = \"/home/nicolas/Escritorio/workshops_ETL/workshop_3/data/raw/2015.csv\"\n",
    "logging.info(f\"Ruta del archivo raw a cargar: {file_path_2015_raw}\")\n",
    "\n",
    "df_2015_raw = None # Usamos un sufijo _raw para indicar que es el dato original\n",
    "\n",
    "try:\n",
    "    logging.info(f\"Intentando cargar el archivo CSV: {os.path.basename(file_path_2015_raw)}\")\n",
    "    df_2015_raw = pd.read_csv(file_path_2015_raw)\n",
    "    logging.info(f\"Archivo {os.path.basename(file_path_2015_raw)} cargado exitosamente.\")\n",
    "    logging.info(f\"El DataFrame df_2015_raw tiene {df_2015_raw.shape[0]} filas y {df_2015_raw.shape[1]} columnas.\")\n",
    "    # Crear una copia para trabajar y preservar el original cargado\n",
    "    df_2015_clean = df_2015_raw.copy()\n",
    "    logging.info(\"Copia del DataFrame creada como df_2015_clean para transformaciones.\")\n",
    "\n",
    "except FileNotFoundError:\n",
    "    logging.error(f\"Error: El archivo no fue encontrado en la ruta especificada: {file_path_2015_raw}\")\n",
    "    df_2015_clean = None # Asegurarse que df_2015_clean sea None si falla la carga\n",
    "except pd.errors.EmptyDataError:\n",
    "    logging.error(f\"Error: El archivo {os.path.basename(file_path_2015_raw)} está vacío.\")\n",
    "    df_2015_clean = None\n",
    "except pd.errors.ParserError:\n",
    "    logging.error(f\"Error: No se pudo parsear el archivo {os.path.basename(file_path_2015_raw)}. Verifica el formato del CSV.\")\n",
    "    df_2015_clean = None\n",
    "except Exception as e:\n",
    "    logging.error(f\"Ocurrió un error inesperado al cargar {os.path.basename(file_path_2015_raw)}: {e}\")\n",
    "    df_2015_clean = None"
   ]
  },
  {
   "cell_type": "code",
   "execution_count": 3,
   "id": "101fb71d",
   "metadata": {},
   "outputs": [
    {
     "name": "stdout",
     "output_type": "stream",
     "text": [
      "DataFrame 2015 cargado y copiado para limpieza:\n",
      "| Country     | Region         |   Happiness Rank |   Happiness Score |   Standard Error |   Economy (GDP per Capita) |   Family |   Health (Life Expectancy) |   Freedom |   Trust (Government Corruption) |   Generosity |   Dystopia Residual |\n",
      "|:------------|:---------------|-----------------:|------------------:|-----------------:|---------------------------:|---------:|---------------------------:|----------:|--------------------------------:|-------------:|--------------------:|\n",
      "| Switzerland | Western Europe |                1 |             7.587 |          0.03411 |                    1.39651 |  1.34951 |                    0.94143 |   0.66557 |                         0.41978 |      0.29678 |             2.51738 |\n",
      "| Iceland     | Western Europe |                2 |             7.561 |          0.04884 |                    1.30232 |  1.40223 |                    0.94784 |   0.62877 |                         0.14145 |      0.4363  |             2.70201 |\n",
      "| Denmark     | Western Europe |                3 |             7.527 |          0.03328 |                    1.32548 |  1.36058 |                    0.87464 |   0.64938 |                         0.48357 |      0.34139 |             2.49204 |\n",
      "| Norway      | Western Europe |                4 |             7.522 |          0.0388  |                    1.459   |  1.33095 |                    0.88521 |   0.66973 |                         0.36503 |      0.34699 |             2.46531 |\n",
      "| Canada      | North America  |                5 |             7.427 |          0.03553 |                    1.32629 |  1.32261 |                    0.90563 |   0.63297 |                         0.32957 |      0.45811 |             2.45176 |\n"
     ]
    }
   ],
   "source": [
    "# Verificar carga antes de proceder\n",
    "if df_2015_clean is not None:\n",
    "    print(\"DataFrame 2015 cargado y copiado para limpieza:\")\n",
    "    print(df_2015_clean.head().to_markdown(index=False))\n",
    "else:\n",
    "    print(\"Error al cargar df_2015_raw. No se puede continuar con la limpieza.\")\n",
    "    logging.error(\"Deteniendo el proceso de limpieza debido a un error en la carga de datos.\")"
   ]
  },
  {
   "cell_type": "code",
   "execution_count": 4,
   "id": "6886bb71",
   "metadata": {},
   "outputs": [
    {
     "name": "stderr",
     "output_type": "stream",
     "text": [
      "2025-05-21 23:23:00,230 - INFO - Iniciando estandarización de nombres de columnas para df_2015.\n",
      "2025-05-21 23:23:00,232 - INFO - Columnas después del renombrado: ['country', 'region', 'happiness_rank', 'happiness_score', 'Standard Error', 'economy_gdp_per_capita', 'social_support', 'health_life_expectancy', 'freedom_to_make_life_choices', 'perceptions_of_corruption', 'generosity', 'Dystopia Residual']\n"
     ]
    },
    {
     "name": "stdout",
     "output_type": "stream",
     "text": [
      "\n",
      "Columnas después del renombrado (df_2015_clean):\n",
      "| country     | region         |   happiness_rank |   happiness_score |   Standard Error |   economy_gdp_per_capita |   social_support |   health_life_expectancy |   freedom_to_make_life_choices |   perceptions_of_corruption |   generosity |   Dystopia Residual |\n",
      "|:------------|:---------------|-----------------:|------------------:|-----------------:|-------------------------:|-----------------:|-------------------------:|-------------------------------:|----------------------------:|-------------:|--------------------:|\n",
      "| Switzerland | Western Europe |                1 |             7.587 |          0.03411 |                  1.39651 |          1.34951 |                  0.94143 |                        0.66557 |                     0.41978 |      0.29678 |             2.51738 |\n",
      "| Iceland     | Western Europe |                2 |             7.561 |          0.04884 |                  1.30232 |          1.40223 |                  0.94784 |                        0.62877 |                     0.14145 |      0.4363  |             2.70201 |\n"
     ]
    }
   ],
   "source": [
    "# --- Estandarización de Nombres de Columnas para df_2015_clean (usando nombres finales estándar) ---\n",
    "if df_2015_clean is not None:\n",
    "    logging.info(\"Iniciando estandarización de nombres de columnas para df_2015.\")\n",
    "    \n",
    "    column_mapping_2015_to_standard = {\n",
    "        'Country': 'country',\n",
    "        'Region': 'region',\n",
    "        'Happiness Rank': 'happiness_rank',\n",
    "        'Happiness Score': 'happiness_score',\n",
    "        'Economy (GDP per Capita)': 'economy_gdp_per_capita',\n",
    "        'Family': 'social_support', # Estándar global\n",
    "        'Health (Life Expectancy)': 'health_life_expectancy',\n",
    "        'Freedom': 'freedom_to_make_life_choices', # Estándar global\n",
    "        'Trust (Government Corruption)': 'perceptions_of_corruption',\n",
    "        'Generosity': 'generosity'\n",
    "    }\n",
    "    \n",
    "    original_columns_2015 = df_2015_clean.columns.tolist()\n",
    "    df_2015_clean.rename(columns=column_mapping_2015_to_standard, inplace=True)\n",
    "            \n",
    "    logging.info(f\"Columnas después del renombrado: {df_2015_clean.columns.tolist()}\")\n",
    "    print(\"\\nColumnas después del renombrado (df_2015_clean):\")\n",
    "    print(df_2015_clean.head(2).to_markdown(index=False))\n",
    "else:\n",
    "    logging.error(\"df_2015_clean no está cargado. No se puede renombrar columnas.\")"
   ]
  },
  {
   "cell_type": "code",
   "execution_count": 5,
   "id": "21593e35",
   "metadata": {},
   "outputs": [
    {
     "name": "stderr",
     "output_type": "stream",
     "text": [
      "2025-05-21 23:23:00,242 - INFO - Columnas eliminadas de df_2015_clean: ['Standard Error', 'Dystopia Residual']\n",
      "2025-05-21 23:23:00,243 - INFO - Columnas restantes: ['country', 'region', 'happiness_rank', 'happiness_score', 'economy_gdp_per_capita', 'social_support', 'health_life_expectancy', 'freedom_to_make_life_choices', 'perceptions_of_corruption', 'generosity']\n"
     ]
    },
    {
     "name": "stdout",
     "output_type": "stream",
     "text": [
      "\n",
      "DataFrame df_2015_clean después de eliminar columnas:\n",
      "| country     | region         |   happiness_rank |   happiness_score |   economy_gdp_per_capita |   social_support |   health_life_expectancy |   freedom_to_make_life_choices |   perceptions_of_corruption |   generosity |\n",
      "|:------------|:---------------|-----------------:|------------------:|-------------------------:|-----------------:|-------------------------:|-------------------------------:|----------------------------:|-------------:|\n",
      "| Switzerland | Western Europe |                1 |             7.587 |                  1.39651 |          1.34951 |                  0.94143 |                        0.66557 |                     0.41978 |      0.29678 |\n",
      "| Iceland     | Western Europe |                2 |             7.561 |                  1.30232 |          1.40223 |                  0.94784 |                        0.62877 |                     0.14145 |      0.4363  |\n"
     ]
    }
   ],
   "source": [
    "# --- Eliminación de Columnas no Deseadas de df_2015_clean ---\n",
    "if df_2015_clean is not None:\n",
    "    cols_to_drop_2015 = ['Standard Error', 'Dystopia Residual']\n",
    "    \n",
    "    # Verificar si las columnas a eliminar existen (con sus nombres originales antes del mapeo)\n",
    "    # o con los nombres mapeados si ya se renombraron y el nombre original ya no existe.\n",
    "    # Es más seguro operar sobre los nombres originales si esta celda se corre independientemente,\n",
    "    # o sobre los nuevos nombres si se asume que la celda de renombrado ya se ejecutó.\n",
    "    # Por ahora, asumimos que los nombres son los originales del CSV 2015.\n",
    "    \n",
    "    existing_cols_to_drop = [col for col in cols_to_drop_2015 if col in df_2015_clean.columns]\n",
    "    \n",
    "    if existing_cols_to_drop:\n",
    "        df_2015_clean.drop(columns=existing_cols_to_drop, inplace=True)\n",
    "        logging.info(f\"Columnas eliminadas de df_2015_clean: {existing_cols_to_drop}\")\n",
    "        logging.info(f\"Columnas restantes: {df_2015_clean.columns.tolist()}\")\n",
    "        print(\"\\nDataFrame df_2015_clean después de eliminar columnas:\")\n",
    "        print(df_2015_clean.head(2).to_markdown(index=False))\n",
    "    else:\n",
    "        logging.info(\"No se encontraron columnas para eliminar o ya fueron eliminadas.\")\n",
    "        print(\"\\nNo se encontraron columnas especificadas para eliminar en df_2015_clean.\")\n",
    "else:\n",
    "    logging.error(\"df_2015_clean no está cargado. No se pueden eliminar columnas.\")"
   ]
  },
  {
   "cell_type": "code",
   "execution_count": 6,
   "id": "2de1dfc9",
   "metadata": {},
   "outputs": [
    {
     "name": "stderr",
     "output_type": "stream",
     "text": [
      "2025-05-21 23:23:00,250 - INFO - Columna 'year' con valor 2015 añadida a df_2015_clean.\n"
     ]
    },
    {
     "name": "stdout",
     "output_type": "stream",
     "text": [
      "\n",
      "DataFrame df_2015_clean con la columna 'year':\n",
      "| country     | region         |   happiness_rank |   happiness_score |   economy_gdp_per_capita |   social_support |   health_life_expectancy |   freedom_to_make_life_choices |   perceptions_of_corruption |   generosity |   year |\n",
      "|:------------|:---------------|-----------------:|------------------:|-------------------------:|-----------------:|-------------------------:|-------------------------------:|----------------------------:|-------------:|-------:|\n",
      "| Switzerland | Western Europe |                1 |             7.587 |                  1.39651 |          1.34951 |                  0.94143 |                        0.66557 |                     0.41978 |      0.29678 |   2015 |\n",
      "| Iceland     | Western Europe |                2 |             7.561 |                  1.30232 |          1.40223 |                  0.94784 |                        0.62877 |                     0.14145 |      0.4363  |   2015 |\n"
     ]
    }
   ],
   "source": [
    "# --- Añadir Columna 'year' ---\n",
    "if df_2015_clean is not None:\n",
    "    df_2015_clean['year'] = 2015\n",
    "    logging.info(\"Columna 'year' con valor 2015 añadida a df_2015_clean.\")\n",
    "    print(\"\\nDataFrame df_2015_clean con la columna 'year':\")\n",
    "    print(df_2015_clean.head(2).to_markdown(index=False))\n",
    "else:\n",
    "    logging.error(\"df_2015_clean no está cargado. No se puede añadir la columna 'year'.\")"
   ]
  },
  {
   "cell_type": "code",
   "execution_count": 7,
   "id": "f4a8bcd0",
   "metadata": {},
   "outputs": [
    {
     "name": "stderr",
     "output_type": "stream",
     "text": [
      "2025-05-21 23:23:00,261 - INFO - Espacios extra eliminados de la columna 'country'.\n",
      "2025-05-21 23:23:00,263 - INFO - Espacios extra eliminados de la columna 'region'.\n"
     ]
    },
    {
     "name": "stdout",
     "output_type": "stream",
     "text": [
      "\n",
      "DataFrame df_2015_clean después de limpiar valores de 'country' y 'region' (si aplica):\n",
      "| country     | region         |   happiness_rank |   happiness_score |   economy_gdp_per_capita |   social_support |   health_life_expectancy |   freedom_to_make_life_choices |   perceptions_of_corruption |   generosity |   year |\n",
      "|:------------|:---------------|-----------------:|------------------:|-------------------------:|-----------------:|-------------------------:|-------------------------------:|----------------------------:|-------------:|-------:|\n",
      "| Switzerland | Western Europe |                1 |             7.587 |                  1.39651 |          1.34951 |                  0.94143 |                        0.66557 |                     0.41978 |      0.29678 |   2015 |\n",
      "| Iceland     | Western Europe |                2 |             7.561 |                  1.30232 |          1.40223 |                  0.94784 |                        0.62877 |                     0.14145 |      0.4363  |   2015 |\n"
     ]
    }
   ],
   "source": [
    "# --- Limpieza de Valores en Columnas 'country' y 'region' (Ejemplo) ---\n",
    "if df_2015_clean is not None:\n",
    "    # Para 'country' (ejemplo: quitar espacios extra al inicio/final)\n",
    "    if 'country' in df_2015_clean.columns:\n",
    "        df_2015_clean['country'] = df_2015_clean['country'].str.strip()\n",
    "        logging.info(\"Espacios extra eliminados de la columna 'country'.\")\n",
    "\n",
    "    # Para 'region' (ejemplo: quitar espacios extra al inicio/final)\n",
    "    if 'region' in df_2015_clean.columns:\n",
    "        df_2015_clean['region'] = df_2015_clean['region'].str.strip()\n",
    "        logging.info(\"Espacios extra eliminados de la columna 'region'.\")\n",
    "    \n",
    "    # Si necesitas convertir a un caso específico (ej. Title Case, aunque los datos ya parecen estar así)\n",
    "    # df_2015_clean['country'] = df_2015_clean['country'].str.title()\n",
    "    \n",
    "    print(\"\\nDataFrame df_2015_clean después de limpiar valores de 'country' y 'region' (si aplica):\")\n",
    "    print(df_2015_clean.head(2).to_markdown(index=False))\n",
    "else:\n",
    "    logging.error(\"df_2015_clean no está cargado. No se puede limpiar valores de columnas.\")"
   ]
  },
  {
   "cell_type": "code",
   "execution_count": 8,
   "id": "76f93a91",
   "metadata": {},
   "outputs": [
    {
     "name": "stderr",
     "output_type": "stream",
     "text": [
      "2025-05-21 23:23:00,274 - INFO - Iniciando reordenamiento de columnas para df_2015_clean.\n",
      "2025-05-21 23:23:00,275 - INFO - Columnas reordenadas exitosamente. Nuevo orden: ['year', 'region', 'country', 'happiness_rank', 'happiness_score', 'social_support', 'health_life_expectancy', 'generosity', 'freedom_to_make_life_choices', 'economy_gdp_per_capita', 'perceptions_of_corruption']\n"
     ]
    },
    {
     "name": "stdout",
     "output_type": "stream",
     "text": [
      "\n",
      "DataFrame df_2015_clean después de reordenar columnas:\n",
      "|   year | region         | country     |   happiness_rank |   happiness_score |   social_support |   health_life_expectancy |   generosity |   freedom_to_make_life_choices |   economy_gdp_per_capita |   perceptions_of_corruption |\n",
      "|-------:|:---------------|:------------|-----------------:|------------------:|-----------------:|-------------------------:|-------------:|-------------------------------:|-------------------------:|----------------------------:|\n",
      "|   2015 | Western Europe | Switzerland |                1 |             7.587 |          1.34951 |                  0.94143 |      0.29678 |                        0.66557 |                  1.39651 |                     0.41978 |\n",
      "|   2015 | Western Europe | Iceland     |                2 |             7.561 |          1.40223 |                  0.94784 |      0.4363  |                        0.62877 |                  1.30232 |                     0.14145 |\n"
     ]
    }
   ],
   "source": [
    "# --- Reordenamiento de Columnas ---\n",
    "if df_2015_clean is not None:\n",
    "    logging.info(\"Iniciando reordenamiento de columnas para df_2015_clean.\")\n",
    "    \n",
    "    # Definir el orden deseado de las columnas\n",
    "    desired_column_order = [\n",
    "        'year',\n",
    "        'region',\n",
    "        'country',\n",
    "        'happiness_rank',\n",
    "        'happiness_score',\n",
    "        'social_support',\n",
    "        'health_life_expectancy',\n",
    "        'generosity',\n",
    "        'freedom_to_make_life_choices',\n",
    "        'economy_gdp_per_capita',\n",
    "        'perceptions_of_corruption'\n",
    "    ]\n",
    "    \n",
    "    # Verificar que todas las columnas deseadas existan en el DataFrame\n",
    "    # Esto es importante por si alguna columna esperada no se generó o se eliminó incorrectamente.\n",
    "    # También, si hay columnas en df_2015_clean que no están en desired_column_order,\n",
    "    # estas se eliminarán al reindexar solo con desired_column_order.\n",
    "    # Si quieres mantenerlas, deberías añadirlas a desired_column_order o manejarlo diferente.\n",
    "    \n",
    "    # Por ahora, asumimos que desired_column_order contiene todas las columnas que queremos y en el orden correcto.\n",
    "    # Si alguna columna de desired_column_order no está en df_2015_clean, causará un KeyError.\n",
    "    # Vamos a asegurarnos de que solo usamos columnas que existen en el df.\n",
    "    \n",
    "    # Primero, obtenemos las columnas que realmente existen en df_2015_clean\n",
    "    existing_columns_in_df = df_2015_clean.columns.tolist()\n",
    "    \n",
    "    # Filtramos desired_column_order para incluir solo las columnas que existen en el DataFrame\n",
    "    # y mantenemos el orden de desired_column_order\n",
    "    final_column_order = [col for col in desired_column_order if col in existing_columns_in_df]\n",
    "    \n",
    "    # Adicionalmente, podríamos querer incluir columnas que están en el df pero no en el desired_order\n",
    "    # al final, para no perderlas, aunque tu lista parece ser exhaustiva para las columnas finales.\n",
    "    # Si alguna columna de desired_column_order no está en df_2015_clean, no aparecerá.\n",
    "    \n",
    "    if set(final_column_order) != set(existing_columns_in_df):\n",
    "        logging.warning(f\"El conjunto de columnas deseadas ({len(final_column_order)}) no coincide exactamente con las columnas existentes en el DataFrame ({len(existing_columns_in_df)}).\")\n",
    "        logging.warning(f\"Columnas deseadas y existentes: {final_column_order}\")\n",
    "        logging.warning(f\"Columnas actualmente en el DataFrame: {existing_columns_in_df}\")\n",
    "        # Decide cómo proceder: ¿error, o continuar con las que coinciden?\n",
    "        # Por ahora, continuaremos con las que coinciden y están en el orden deseado.\n",
    "    \n",
    "    try:\n",
    "        df_2015_clean = df_2015_clean[final_column_order]\n",
    "        logging.info(f\"Columnas reordenadas exitosamente. Nuevo orden: {df_2015_clean.columns.tolist()}\")\n",
    "        print(\"\\nDataFrame df_2015_clean después de reordenar columnas:\")\n",
    "        print(df_2015_clean.head(2).to_markdown(index=False))\n",
    "    except KeyError as e:\n",
    "        logging.error(f\"Error al reordenar columnas: Una o más columnas deseadas no existen en el DataFrame. {e}\")\n",
    "        print(f\"\\nError al reordenar columnas: {e}\")\n",
    "        print(f\"Columnas disponibles: {existing_columns_in_df}\")\n",
    "        print(f\"Columnas deseadas (filtradas por existencia): {final_column_order}\")\n",
    "\n",
    "else:\n",
    "    logging.error(\"df_2015_clean no está cargado. No se puede reordenar columnas.\")"
   ]
  },
  {
   "cell_type": "code",
   "execution_count": 9,
   "id": "b7d4f542",
   "metadata": {},
   "outputs": [
    {
     "name": "stderr",
     "output_type": "stream",
     "text": [
      "2025-05-21 23:23:00,283 - INFO - Mostrando información final de df_2015_clean (tipos de datos).\n"
     ]
    },
    {
     "name": "stdout",
     "output_type": "stream",
     "text": [
      "\n",
      "Información final del DataFrame df_2015_clean:\n",
      "<class 'pandas.core.frame.DataFrame'>\n",
      "RangeIndex: 158 entries, 0 to 157\n",
      "Data columns (total 11 columns):\n",
      " #   Column                        Non-Null Count  Dtype  \n",
      "---  ------                        --------------  -----  \n",
      " 0   year                          158 non-null    int64  \n",
      " 1   region                        158 non-null    object \n",
      " 2   country                       158 non-null    object \n",
      " 3   happiness_rank                158 non-null    int64  \n",
      " 4   happiness_score               158 non-null    float64\n",
      " 5   social_support                158 non-null    float64\n",
      " 6   health_life_expectancy        158 non-null    float64\n",
      " 7   generosity                    158 non-null    float64\n",
      " 8   freedom_to_make_life_choices  158 non-null    float64\n",
      " 9   economy_gdp_per_capita        158 non-null    float64\n",
      " 10  perceptions_of_corruption     158 non-null    float64\n",
      "dtypes: float64(7), int64(2), object(2)\n",
      "memory usage: 13.7+ KB\n"
     ]
    }
   ],
   "source": [
    "# --- Verificación de Tipos de Datos Final ---\n",
    "if df_2015_clean is not None:\n",
    "    logging.info(\"Mostrando información final de df_2015_clean (tipos de datos).\")\n",
    "    print(\"\\nInformación final del DataFrame df_2015_clean:\")\n",
    "    df_2015_clean.info()\n",
    "else:\n",
    "    logging.error(\"df_2015_clean no está cargado.\")"
   ]
  },
  {
   "cell_type": "code",
   "execution_count": 10,
   "id": "07e788a7",
   "metadata": {},
   "outputs": [
    {
     "name": "stderr",
     "output_type": "stream",
     "text": [
      "2025-05-21 23:23:00,300 - INFO - DataFrame limpio df_2015_clean guardado en: /home/nicolas/Escritorio/workshops_ETL/workshop_3/data/processed/2015_cleaned.csv\n"
     ]
    },
    {
     "name": "stdout",
     "output_type": "stream",
     "text": [
      "\n",
      "DataFrame limpio df_2015_clean guardado en: /home/nicolas/Escritorio/workshops_ETL/workshop_3/data/processed/2015_cleaned.csv\n"
     ]
    }
   ],
   "source": [
    "# --- Guardar el DataFrame Limpio (Opcional) ---\n",
    "if df_2015_clean is not None:\n",
    "    output_path = \"/home/nicolas/Escritorio/workshops_ETL/workshop_3/data/processed/2015_cleaned.csv\"\n",
    "    try:\n",
    "        df_2015_clean.to_csv(output_path, index=False)\n",
    "        logging.info(f\"DataFrame limpio df_2015_clean guardado en: {output_path}\")\n",
    "        print(f\"\\nDataFrame limpio df_2015_clean guardado en: {output_path}\")\n",
    "    except Exception as e:\n",
    "        logging.error(f\"Error al guardar el DataFrame limpio: {e}\")\n",
    "        print(f\"\\nError al guardar el DataFrame limpio: {e}\")\n",
    "else:\n",
    "    logging.error(\"df_2015_clean no está cargado. No se puede guardar.\")"
   ]
  },
  {
   "cell_type": "code",
   "execution_count": 1,
   "id": "7f804e73",
   "metadata": {},
   "outputs": [
    {
     "name": "stdout",
     "output_type": "stream",
     "text": [
      "Sklearn version (entrenamiento): 1.6.1\n",
      "NumPy version (entrenamiento): 2.2.6\n",
      "Joblib version (entrenamiento): 1.5.0\n"
     ]
    }
   ],
   "source": [
    "import sklearn\n",
    "import numpy\n",
    "import joblib\n",
    "print(f\"Sklearn version (entrenamiento): {sklearn.__version__}\")\n",
    "print(f\"NumPy version (entrenamiento): {numpy.__version__}\")\n",
    "print(f\"Joblib version (entrenamiento): {joblib.__version__}\")"
   ]
  }
 ],
 "metadata": {
  "kernelspec": {
   "display_name": "venv",
   "language": "python",
   "name": "python3"
  },
  "language_info": {
   "codemirror_mode": {
    "name": "ipython",
    "version": 3
   },
   "file_extension": ".py",
   "mimetype": "text/x-python",
   "name": "python",
   "nbconvert_exporter": "python",
   "pygments_lexer": "ipython3",
   "version": "3.10.12"
  }
 },
 "nbformat": 4,
 "nbformat_minor": 5
}
