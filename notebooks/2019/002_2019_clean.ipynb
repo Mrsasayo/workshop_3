{
 "cells": [
  {
   "cell_type": "code",
   "execution_count": 1,
   "id": "b78163d8",
   "metadata": {},
   "outputs": [
    {
     "name": "stderr",
     "output_type": "stream",
     "text": [
      "2025-05-21 23:27:37,711 - INFO - Inicio del notebook de limpieza y transformación para 2019.csv (002_2019_clean.ipynb).\n"
     ]
    }
   ],
   "source": [
    "import pandas as pd\n",
    "import numpy as np\n",
    "import logging\n",
    "import os\n",
    "\n",
    "logging.basicConfig(\n",
    "    level=logging.INFO,\n",
    "    format='%(asctime)s - %(levelname)s - %(message)s',\n",
    "    handlers=[\n",
    "        logging.FileHandler(\"002_2019_clean.log\"),\n",
    "        logging.StreamHandler()\n",
    "    ]\n",
    ")\n",
    "\n",
    "logging.info(\"Inicio del notebook de limpieza y transformación para 2019.csv (002_2019_clean.ipynb).\")\n",
    "\n",
    "pd.set_option('display.max_columns', None)\n",
    "pd.set_option('display.max_rows', 100)\n",
    "pd.set_option('display.float_format', lambda x: '%.3f' % x)"
   ]
  },
  {
   "cell_type": "code",
   "execution_count": 2,
   "id": "533d2d0d",
   "metadata": {},
   "outputs": [
    {
     "name": "stderr",
     "output_type": "stream",
     "text": [
      "2025-05-21 23:27:37,719 - INFO - Ruta del archivo raw a cargar: /home/nicolas/Escritorio/workshops_ETL/workshop_3/data/raw/2019.csv\n",
      "2025-05-21 23:27:37,720 - INFO - Intentando cargar el archivo CSV: 2019.csv\n",
      "2025-05-21 23:27:37,723 - INFO - Archivo 2019.csv cargado exitosamente.\n",
      "2025-05-21 23:27:37,724 - INFO - El DataFrame df_2019_raw tiene 156 filas y 9 columnas.\n",
      "2025-05-21 23:27:37,724 - INFO - Copia del DataFrame creada como df_2019_clean para transformaciones.\n"
     ]
    }
   ],
   "source": [
    "# --- Definición de la ruta al archivo ---\n",
    "file_path_2019_raw = \"/home/nicolas/Escritorio/workshops_ETL/workshop_3/data/raw/2019.csv\"\n",
    "logging.info(f\"Ruta del archivo raw a cargar: {file_path_2019_raw}\")\n",
    "\n",
    "df_2019_raw = None\n",
    "df_2019_clean = None\n",
    "\n",
    "try:\n",
    "    logging.info(f\"Intentando cargar el archivo CSV: {os.path.basename(file_path_2019_raw)}\")\n",
    "    df_2019_raw = pd.read_csv(file_path_2019_raw)\n",
    "    logging.info(f\"Archivo {os.path.basename(file_path_2019_raw)} cargado exitosamente.\")\n",
    "    logging.info(f\"El DataFrame df_2019_raw tiene {df_2019_raw.shape[0]} filas y {df_2019_raw.shape[1]} columnas.\")\n",
    "    df_2019_clean = df_2019_raw.copy()\n",
    "    logging.info(\"Copia del DataFrame creada como df_2019_clean para transformaciones.\")\n",
    "\n",
    "except Exception as e:\n",
    "    logging.error(f\"Ocurrió un error al cargar {os.path.basename(file_path_2019_raw)}: {e}\")"
   ]
  },
  {
   "cell_type": "code",
   "execution_count": 3,
   "id": "4add6236",
   "metadata": {},
   "outputs": [
    {
     "name": "stdout",
     "output_type": "stream",
     "text": [
      "DataFrame 2019 cargado y copiado para limpieza:\n",
      "|   Overall rank | Country or region   |   Score |   GDP per capita |   Social support |   Healthy life expectancy |   Freedom to make life choices |   Generosity |   Perceptions of corruption |\n",
      "|---------------:|:--------------------|--------:|-----------------:|-----------------:|--------------------------:|-------------------------------:|-------------:|----------------------------:|\n",
      "|              1 | Finland             |   7.769 |            1.34  |            1.587 |                     0.986 |                          0.596 |        0.153 |                       0.393 |\n",
      "|              2 | Denmark             |   7.6   |            1.383 |            1.573 |                     0.996 |                          0.592 |        0.252 |                       0.41  |\n",
      "|              3 | Norway              |   7.554 |            1.488 |            1.582 |                     1.028 |                          0.603 |        0.271 |                       0.341 |\n",
      "|              4 | Iceland             |   7.494 |            1.38  |            1.624 |                     1.026 |                          0.591 |        0.354 |                       0.118 |\n",
      "|              5 | Netherlands         |   7.488 |            1.396 |            1.522 |                     0.999 |                          0.557 |        0.322 |                       0.298 |\n"
     ]
    }
   ],
   "source": [
    "if df_2019_clean is not None:\n",
    "    print(\"DataFrame 2019 cargado y copiado para limpieza:\")\n",
    "    print(df_2019_clean.head().to_markdown(index=False))\n",
    "else:\n",
    "    print(\"Error al cargar df_2019_raw. No se puede continuar con la limpieza.\")\n",
    "    logging.error(\"Deteniendo el proceso de limpieza debido a un error en la carga de datos.\")"
   ]
  },
  {
   "cell_type": "code",
   "execution_count": 4,
   "id": "fcba5803",
   "metadata": {},
   "outputs": [
    {
     "name": "stderr",
     "output_type": "stream",
     "text": [
      "2025-05-21 23:27:37,761 - INFO - Iniciando estandarización de nombres de columnas para df_2019.\n",
      "2025-05-21 23:27:37,762 - INFO - Columnas después del renombrado (df_2019_clean): ['happiness_rank', 'country', 'happiness_score', 'economy_gdp_per_capita', 'social_support', 'health_life_expectancy', 'freedom_to_make_life_choices', 'generosity', 'perceptions_of_corruption']\n"
     ]
    },
    {
     "name": "stdout",
     "output_type": "stream",
     "text": [
      "\n",
      "Columnas después del renombrado (df_2019_clean):\n",
      "|   happiness_rank | country   |   happiness_score |   economy_gdp_per_capita |   social_support |   health_life_expectancy |   freedom_to_make_life_choices |   generosity |   perceptions_of_corruption |\n",
      "|-----------------:|:----------|------------------:|-------------------------:|-----------------:|-------------------------:|-------------------------------:|-------------:|----------------------------:|\n",
      "|                1 | Finland   |             7.769 |                    1.34  |            1.587 |                    0.986 |                          0.596 |        0.153 |                       0.393 |\n",
      "|                2 | Denmark   |             7.6   |                    1.383 |            1.573 |                    0.996 |                          0.592 |        0.252 |                       0.41  |\n"
     ]
    }
   ],
   "source": [
    "# --- Estandarización de Nombres de Columnas para df_2019_clean ---\n",
    "if df_2019_clean is not None:\n",
    "    logging.info(\"Iniciando estandarización de nombres de columnas para df_2019.\")\n",
    "    \n",
    "    column_mapping_2019_to_standard = {\n",
    "        'Country or region': 'country',\n",
    "        'Overall rank': 'happiness_rank',\n",
    "        'Score': 'happiness_score',\n",
    "        'GDP per capita': 'economy_gdp_per_capita',\n",
    "        'Social support': 'social_support',\n",
    "        'Healthy life expectancy': 'health_life_expectancy',\n",
    "        'Freedom to make life choices': 'freedom_to_make_life_choices',\n",
    "        'Perceptions of corruption': 'perceptions_of_corruption',\n",
    "        'Generosity': 'generosity'\n",
    "    }\n",
    "    \n",
    "    df_2019_clean.rename(columns=column_mapping_2019_to_standard, inplace=True)\n",
    "            \n",
    "    logging.info(f\"Columnas después del renombrado (df_2019_clean): {df_2019_clean.columns.tolist()}\")\n",
    "    print(\"\\nColumnas después del renombrado (df_2019_clean):\")\n",
    "    print(df_2019_clean.head(2).to_markdown(index=False))\n",
    "else:\n",
    "    logging.error(\"df_2019_clean no está cargado. No se puede renombrar columnas.\")"
   ]
  },
  {
   "cell_type": "code",
   "execution_count": 5,
   "id": "4cc1663b",
   "metadata": {},
   "outputs": [
    {
     "name": "stderr",
     "output_type": "stream",
     "text": [
      "2025-05-21 23:27:37,776 - INFO - Iniciando creación de la columna 'region' para df_2019.\n",
      "2025-05-21 23:27:37,780 - INFO - Todos los países de df_2019 fueron mapeados a una región exitosamente.\n",
      "2025-05-21 23:27:37,781 - INFO - Columna 'region' creada y poblada en df_2019_clean.\n"
     ]
    }
   ],
   "source": [
    "# --- Creación de la Columna 'region' para df_2019_clean ---\n",
    "if df_2019_clean is not None:\n",
    "    logging.info(\"Iniciando creación de la columna 'region' para df_2019.\")\n",
    "    \n",
    "    country_to_region_map_2019 = {\n",
    "        \"Western Europe\": ['Finland', 'Denmark', 'Norway', 'Iceland', 'Netherlands', 'Switzerland',\n",
    "                            'Sweden', 'Austria', 'Luxembourg', 'United Kingdom', 'Ireland', 'Germany',\n",
    "                            'Belgium', 'France', 'Spain', 'Portugal', 'Italy', 'Northern Cyprus', 'Cyprus', 'Malta', 'Greece'],\n",
    "        \"North America\": ['Canada', 'United States'],\n",
    "        \"Australia and New Zealand\": ['Australia', 'New Zealand'],\n",
    "        \"Middle East and Northern Africa\": ['United Arab Emirates', 'Israel', 'Saudi Arabia', 'Qatar',\n",
    "                                             'Bahrain', 'Kuwait', 'Jordan', 'Lebanon', 'Egypt', 'Libya',\n",
    "                                             'Tunisia', 'Morocco', 'Algeria', 'Sudan', 'Palestinian Territories',\n",
    "                                             'Syria', 'Armenia', 'Azerbaijan', 'Georgia', 'Iran', 'Iraq', 'Yemen', 'Turkey'],\n",
    "        \"Latin America and Caribbean\": ['Chile', 'Guatemala', 'Costa Rica', 'Uruguay', 'Panama', 'Mexico',\n",
    "                                        'Brazil', 'Argentina', 'El Salvador', 'Nicaragua', 'Colombia',\n",
    "                                        'Ecuador', 'Peru', 'Bolivia', 'Paraguay', 'Venezuela',\n",
    "                                        'Belize', 'Honduras', 'Jamaica', 'Dominican Republic', 'Trinidad & Tobago', 'Haiti'],\n",
    "        \"Southeastern Asia\": ['Singapore', 'Thailand', 'Malaysia', 'Indonesia', 'Philippines', 'Vietnam',\n",
    "                               'Cambodia', 'Myanmar', 'Laos'],\n",
    "        \"Central and Eastern Europe\": ['Czech Republic', 'Slovakia', 'Slovenia', 'Poland', 'Hungary',\n",
    "                                       'Croatia', 'Bosnia and Herzegovina', 'Serbia', 'Romania', 'Bulgaria',\n",
    "                                       'Estonia', 'Latvia', 'Lithuania', 'Belarus', 'Moldova', 'Kosovo',\n",
    "                                       'North Macedonia', 'Montenegro', 'Russia', 'Ukraine', 'Albania'],\n",
    "        \"Eastern Asia\": ['China', 'Hong Kong', 'Japan', 'South Korea', 'Taiwan', 'Mongolia'],\n",
    "        \"Sub-Saharan Africa\": ['Nigeria', 'South Africa', 'Kenya', 'Ethiopia', 'Uganda', 'Tanzania',\n",
    "                               'Ghana', 'Senegal', 'Cameroon', 'Congo (Kinshasa)', 'Congo (Brazzaville)',\n",
    "                               'Angola', 'Benin', 'Burkina Faso', 'Rwanda', 'Zimbabwe', 'Zambia', 'Mozambique',\n",
    "                               'Namibia', 'Madagascar', 'Botswana', 'Malawi', 'Niger', 'Mali', 'Chad',\n",
    "                               'Central African Republic', 'South Sudan', 'Somalia', 'Sierra Leone',\n",
    "                               'Liberia', 'Guinea', 'Ivory Coast', 'Mauritius', 'Gabon',\n",
    "                               'Mauritania', 'Lesotho', 'Togo', 'Burundi', 'Comoros', 'Swaziland',\n",
    "                               'Gambia'],\n",
    "        \"Southern Asia\": ['India', 'Pakistan', 'Bangladesh', 'Sri Lanka', 'Nepal', 'Bhutan', 'Afghanistan',\n",
    "                           'Kazakhstan', 'Kyrgyzstan', 'Tajikistan', 'Turkmenistan', 'Uzbekistan']\n",
    "    }\n",
    "\n",
    "    region_lookup_2019 = {}\n",
    "    for region, countries in country_to_region_map_2019.items():\n",
    "        for country_name in countries:\n",
    "            region_lookup_2019[country_name.strip()] = region\n",
    "            \n",
    "    country_name_replacements_2019 = {\n",
    "        \"Trinidad & Tobago\": \"Trinidad & Tobago\",\n",
    "    }\n",
    "    df_2019_clean['country_standardized_for_map'] = df_2019_clean['country'].str.strip().replace(country_name_replacements_2019)\n",
    "    \n",
    "    df_2019_clean['region'] = df_2019_clean['country_standardized_for_map'].map(region_lookup_2019)\n",
    "    df_2019_clean.drop(columns=['country_standardized_for_map'], inplace=True)\n",
    "\n",
    "    unmapped_countries_2019 = df_2019_clean[df_2019_clean['region'].isnull()]['country'].unique()\n",
    "    if len(unmapped_countries_2019) > 0:\n",
    "        logging.warning(f\"Países NO mapeados a región en df_2019: {list(unmapped_countries_2019)}. Revisa el mapeo 'country_to_region_map_2019' y los nombres de país en el DataFrame (especialmente después de 'country_name_replacements_2019').\")\n",
    "        print(f\"\\nADVERTENCIA: Países no mapeados a región en df_2019: {list(unmapped_countries_2019)}.\")\n",
    "    else:\n",
    "        logging.info(\"Todos los países de df_2019 fueron mapeados a una región exitosamente.\")\n",
    "\n",
    "    logging.info(\"Columna 'region' creada y poblada en df_2019_clean.\")\n",
    "else:\n",
    "    logging.error(\"df_2019_clean no está cargado. No se puede crear la columna 'region'.\")"
   ]
  },
  {
   "cell_type": "code",
   "execution_count": 6,
   "id": "19197435",
   "metadata": {},
   "outputs": [
    {
     "name": "stderr",
     "output_type": "stream",
     "text": [
      "2025-05-21 23:27:37,788 - INFO - Verificando la columna 'region' creada en df_2019_clean.\n",
      "2025-05-21 23:27:37,789 - INFO - Valores únicos en 'region' (df_2019): ['Australia and New Zealand', 'Central and Eastern Europe', 'Eastern Asia', 'Latin America and Caribbean', 'Middle East and Northern Africa', 'North America', 'Southeastern Asia', 'Southern Asia', 'Sub-Saharan Africa', 'Western Europe']\n",
      "2025-05-21 23:27:37,791 - INFO - Conteo de valores por región (df_2019): {'Sub-Saharan Africa': 40, 'Middle East and Northern Africa': 22, 'Central and Eastern Europe': 21, 'Western Europe': 21, 'Latin America and Caribbean': 21, 'Southern Asia': 12, 'Southeastern Asia': 9, 'Eastern Asia': 6, 'Australia and New Zealand': 2, 'North America': 2}\n"
     ]
    },
    {
     "name": "stdout",
     "output_type": "stream",
     "text": [
      "\n",
      "Valores únicos en la columna 'region' (df_2019_clean):\n",
      "['Australia and New Zealand', 'Central and Eastern Europe', 'Eastern Asia', 'Latin America and Caribbean', 'Middle East and Northern Africa', 'North America', 'Southeastern Asia', 'Southern Asia', 'Sub-Saharan Africa', 'Western Europe']\n",
      "\n",
      "Conteo de países por región (df_2019_clean):\n",
      "| region                          |   count |\n",
      "|:--------------------------------|--------:|\n",
      "| Sub-Saharan Africa              |      40 |\n",
      "| Middle East and Northern Africa |      22 |\n",
      "| Central and Eastern Europe      |      21 |\n",
      "| Western Europe                  |      21 |\n",
      "| Latin America and Caribbean     |      21 |\n",
      "| Southern Asia                   |      12 |\n",
      "| Southeastern Asia               |       9 |\n",
      "| Eastern Asia                    |       6 |\n",
      "| Australia and New Zealand       |       2 |\n",
      "| North America                   |       2 |\n",
      "\n",
      "Ejemplo de países y sus regiones asignadas (df_2019_clean):\n",
      "| country         | region                          |\n",
      "|:----------------|:--------------------------------|\n",
      "| North Macedonia | Central and Eastern Europe      |\n",
      "| Guatemala       | Latin America and Caribbean     |\n",
      "| Yemen           | Middle East and Northern Africa |\n",
      "| Bulgaria        | Central and Eastern Europe      |\n",
      "| Mauritania      | Sub-Saharan Africa              |\n"
     ]
    }
   ],
   "source": [
    "# --- Verificación de la Columna 'region' Creada (df_2019_clean) ---\n",
    "if df_2019_clean is not None and 'region' in df_2019_clean.columns:\n",
    "    logging.info(\"Verificando la columna 'region' creada en df_2019_clean.\")\n",
    "    \n",
    "    unique_regions_2019 = df_2019_clean['region'].unique()\n",
    "    print(\"\\nValores únicos en la columna 'region' (df_2019_clean):\")\n",
    "    print(sorted([str(r) for r in unique_regions_2019]))\n",
    "    logging.info(f\"Valores únicos en 'region' (df_2019): {sorted([str(r) for r in unique_regions_2019])}\")\n",
    "\n",
    "    print(\"\\nConteo de países por región (df_2019_clean):\")\n",
    "    region_value_counts_2019 = df_2019_clean['region'].value_counts(dropna=False)\n",
    "    print(region_value_counts_2019.to_markdown())\n",
    "    logging.info(f\"Conteo de valores por región (df_2019): {region_value_counts_2019.to_dict()}\")\n",
    "    \n",
    "    print(\"\\nEjemplo de países y sus regiones asignadas (df_2019_clean):\")\n",
    "    print(df_2019_clean[['country', 'region']].sample(5).to_markdown(index=False))\n",
    "else:\n",
    "    if df_2019_clean is None: logging.error(\"df_2019_clean no está cargado.\")\n",
    "    else: logging.error(\"La columna 'region' no fue creada o no se encuentra en df_2019_clean.\")\n",
    "    print(\"\\nNo se puede verificar la columna 'region'.\")"
   ]
  },
  {
   "cell_type": "code",
   "execution_count": 7,
   "id": "4c975996",
   "metadata": {},
   "outputs": [
    {
     "name": "stderr",
     "output_type": "stream",
     "text": [
      "2025-05-21 23:27:37,800 - INFO - No se eliminan columnas del DataFrame df_2019_clean según el plan.\n"
     ]
    },
    {
     "name": "stdout",
     "output_type": "stream",
     "text": [
      "\n",
      "No se eliminaron columnas de df_2019_clean.\n"
     ]
    }
   ],
   "source": [
    "# --- Eliminación de Columnas no Deseadas de df_2019_clean ---\n",
    "if df_2019_clean is not None:\n",
    "    logging.info(\"No se eliminan columnas del DataFrame df_2019_clean según el plan.\")\n",
    "    print(\"\\nNo se eliminaron columnas de df_2019_clean.\")\n",
    "else:\n",
    "    logging.error(\"df_2019_clean no está cargado.\")"
   ]
  },
  {
   "cell_type": "code",
   "execution_count": 8,
   "id": "aa9a2d33",
   "metadata": {},
   "outputs": [
    {
     "name": "stderr",
     "output_type": "stream",
     "text": [
      "2025-05-21 23:27:37,807 - INFO - No se encontraron valores nulos para imputar en df_2019_clean.\n"
     ]
    },
    {
     "name": "stdout",
     "output_type": "stream",
     "text": [
      "\n",
      "No se encontraron valores nulos para imputar en df_2019_clean.\n"
     ]
    }
   ],
   "source": [
    "# --- Manejo de Valores Nulos en df_2019_clean ---\n",
    "if df_2019_clean is not None:\n",
    "    nulos_totales = df_2019_clean.isnull().sum().sum()\n",
    "    if nulos_totales > 0:\n",
    "        logging.warning(f\"Se encontraron {nulos_totales} valores nulos en df_2019_clean. Columnas afectadas:\")\n",
    "        print(f\"\\nColumnas con valores nulos en df_2019_clean:\\n{df_2019_clean.isnull().sum()[df_2019_clean.isnull().sum() > 0].to_markdown()}\")\n",
    "    else:\n",
    "        logging.info(\"No se encontraron valores nulos para imputar en df_2019_clean.\")\n",
    "        print(\"\\nNo se encontraron valores nulos para imputar en df_2019_clean.\")\n",
    "else:\n",
    "    logging.error(\"df_2019_clean no está cargado. No se puede manejar nulos.\")"
   ]
  },
  {
   "cell_type": "code",
   "execution_count": 9,
   "id": "3a0cba81",
   "metadata": {},
   "outputs": [
    {
     "name": "stderr",
     "output_type": "stream",
     "text": [
      "2025-05-21 23:27:37,816 - INFO - Columna 'year' con valor 2019 añadida a df_2019_clean.\n"
     ]
    }
   ],
   "source": [
    "# --- Añadir Columna 'year' ---\n",
    "if df_2019_clean is not None:\n",
    "    df_2019_clean['year'] = 2019\n",
    "    logging.info(\"Columna 'year' con valor 2019 añadida a df_2019_clean.\")\n",
    "else:\n",
    "    logging.error(\"df_2019_clean no está cargado.\")"
   ]
  },
  {
   "cell_type": "code",
   "execution_count": 10,
   "id": "947188e5",
   "metadata": {},
   "outputs": [
    {
     "name": "stderr",
     "output_type": "stream",
     "text": [
      "2025-05-21 23:27:37,823 - INFO - Espacios extra eliminados de la columna 'country' en df_2019_clean.\n"
     ]
    }
   ],
   "source": [
    "# --- Limpieza de Valores en Columna 'country' (Ejemplo) ---\n",
    "if df_2019_clean is not None:\n",
    "    if 'country' in df_2019_clean.columns:\n",
    "        df_2019_clean['country'] = df_2019_clean['country'].str.strip()\n",
    "        logging.info(\"Espacios extra eliminados de la columna 'country' en df_2019_clean.\")\n",
    "else:\n",
    "    logging.error(\"df_2019_clean no está cargado.\")"
   ]
  },
  {
   "cell_type": "code",
   "execution_count": 11,
   "id": "bd997b5d",
   "metadata": {},
   "outputs": [
    {
     "name": "stderr",
     "output_type": "stream",
     "text": [
      "2025-05-21 23:27:37,831 - INFO - Iniciando reordenamiento de columnas para df_2019_clean.\n",
      "2025-05-21 23:27:37,833 - INFO - Columnas reordenadas para df_2019_clean. Nuevo orden: ['year', 'region', 'country', 'happiness_rank', 'happiness_score', 'social_support', 'health_life_expectancy', 'generosity', 'freedom_to_make_life_choices', 'economy_gdp_per_capita', 'perceptions_of_corruption']\n"
     ]
    },
    {
     "name": "stdout",
     "output_type": "stream",
     "text": [
      "\n",
      "DataFrame df_2019_clean después de reordenar columnas:\n",
      "|   year | region         | country   |   happiness_rank |   happiness_score |   social_support |   health_life_expectancy |   generosity |   freedom_to_make_life_choices |   economy_gdp_per_capita |   perceptions_of_corruption |\n",
      "|-------:|:---------------|:----------|-----------------:|------------------:|-----------------:|-------------------------:|-------------:|-------------------------------:|-------------------------:|----------------------------:|\n",
      "|   2019 | Western Europe | Finland   |                1 |             7.769 |            1.587 |                    0.986 |        0.153 |                          0.596 |                    1.34  |                       0.393 |\n",
      "|   2019 | Western Europe | Denmark   |                2 |             7.6   |            1.573 |                    0.996 |        0.252 |                          0.592 |                    1.383 |                       0.41  |\n"
     ]
    }
   ],
   "source": [
    "# --- Reordenamiento de Columnas para df_2019_clean ---\n",
    "if df_2019_clean is not None:\n",
    "    logging.info(\"Iniciando reordenamiento de columnas para df_2019_clean.\")\n",
    "    \n",
    "    desired_column_order = [\n",
    "        'year', 'region', 'country', 'happiness_rank', 'happiness_score',\n",
    "        'social_support', 'health_life_expectancy', 'generosity',\n",
    "        'freedom_to_make_life_choices', 'economy_gdp_per_capita',\n",
    "        'perceptions_of_corruption'\n",
    "    ]\n",
    "    \n",
    "    existing_columns_in_df = df_2019_clean.columns.tolist()\n",
    "    final_column_order_2019 = [col for col in desired_column_order if col in existing_columns_in_df]\n",
    "\n",
    "    missing_desired_cols = [col for col in desired_column_order if col not in final_column_order_2019]\n",
    "    if missing_desired_cols: logging.warning(f\"Columnas deseadas no encontradas en df_2019_clean: {missing_desired_cols}\")\n",
    "    extra_cols_in_df = [col for col in existing_columns_in_df if col not in final_column_order_2019]\n",
    "    if extra_cols_in_df: logging.warning(f\"Columnas extra en df_2019_clean que serán eliminadas: {extra_cols_in_df}\")\n",
    "        \n",
    "    try:\n",
    "        df_2019_clean = df_2019_clean[final_column_order_2019]\n",
    "        logging.info(f\"Columnas reordenadas para df_2019_clean. Nuevo orden: {df_2019_clean.columns.tolist()}\")\n",
    "        print(\"\\nDataFrame df_2019_clean después de reordenar columnas:\")\n",
    "        print(df_2019_clean.head(2).to_markdown(index=False))\n",
    "    except KeyError as e:\n",
    "        logging.error(f\"Error al reordenar columnas en df_2019_clean: {e}\")\n",
    "else:\n",
    "    logging.error(\"df_2019_clean no está cargado.\")"
   ]
  },
  {
   "cell_type": "code",
   "execution_count": 12,
   "id": "d8bb3946",
   "metadata": {},
   "outputs": [
    {
     "name": "stderr",
     "output_type": "stream",
     "text": [
      "2025-05-21 23:27:37,839 - INFO - Mostrando información final de df_2019_clean (tipos de datos).\n"
     ]
    },
    {
     "name": "stdout",
     "output_type": "stream",
     "text": [
      "\n",
      "Información final del DataFrame df_2019_clean:\n",
      "<class 'pandas.core.frame.DataFrame'>\n",
      "RangeIndex: 156 entries, 0 to 155\n",
      "Data columns (total 11 columns):\n",
      " #   Column                        Non-Null Count  Dtype  \n",
      "---  ------                        --------------  -----  \n",
      " 0   year                          156 non-null    int64  \n",
      " 1   region                        156 non-null    object \n",
      " 2   country                       156 non-null    object \n",
      " 3   happiness_rank                156 non-null    int64  \n",
      " 4   happiness_score               156 non-null    float64\n",
      " 5   social_support                156 non-null    float64\n",
      " 6   health_life_expectancy        156 non-null    float64\n",
      " 7   generosity                    156 non-null    float64\n",
      " 8   freedom_to_make_life_choices  156 non-null    float64\n",
      " 9   economy_gdp_per_capita        156 non-null    float64\n",
      " 10  perceptions_of_corruption     156 non-null    float64\n",
      "dtypes: float64(7), int64(2), object(2)\n",
      "memory usage: 13.5+ KB\n"
     ]
    }
   ],
   "source": [
    "# --- Verificación de Tipos de Datos Final (df_2019_clean) ---\n",
    "if df_2019_clean is not None:\n",
    "    logging.info(\"Mostrando información final de df_2019_clean (tipos de datos).\")\n",
    "    print(\"\\nInformación final del DataFrame df_2019_clean:\")\n",
    "    df_2019_clean.info()\n",
    "else:\n",
    "    logging.error(\"df_2019_clean no está cargado.\")"
   ]
  },
  {
   "cell_type": "code",
   "execution_count": 13,
   "id": "693ead31",
   "metadata": {},
   "outputs": [
    {
     "name": "stderr",
     "output_type": "stream",
     "text": [
      "2025-05-21 23:27:37,855 - INFO - DataFrame limpio df_2019_clean guardado en: /home/nicolas/Escritorio/workshops_ETL/workshop_3/data/processed/2019_cleaned.csv\n"
     ]
    },
    {
     "name": "stdout",
     "output_type": "stream",
     "text": [
      "\n",
      "DataFrame limpio df_2019_clean guardado en: /home/nicolas/Escritorio/workshops_ETL/workshop_3/data/processed/2019_cleaned.csv\n"
     ]
    }
   ],
   "source": [
    "# --- Guardar el DataFrame Limpio df_2019_clean (Opcional) ---\n",
    "if df_2019_clean is not None:\n",
    "    output_path_2019 = \"/home/nicolas/Escritorio/workshops_ETL/workshop_3/data/processed/2019_cleaned.csv\"\n",
    "    try:\n",
    "        df_2019_clean.to_csv(output_path_2019, index=False)\n",
    "        logging.info(f\"DataFrame limpio df_2019_clean guardado en: {output_path_2019}\")\n",
    "        print(f\"\\nDataFrame limpio df_2019_clean guardado en: {output_path_2019}\")\n",
    "    except Exception as e:\n",
    "        logging.error(f\"Error al guardar el DataFrame limpio df_2019_clean: {e}\")\n",
    "else:\n",
    "    logging.error(\"df_2019_clean no está cargado.\")"
   ]
  }
 ],
 "metadata": {
  "kernelspec": {
   "display_name": "venv",
   "language": "python",
   "name": "python3"
  },
  "language_info": {
   "codemirror_mode": {
    "name": "ipython",
    "version": 3
   },
   "file_extension": ".py",
   "mimetype": "text/x-python",
   "name": "python",
   "nbconvert_exporter": "python",
   "pygments_lexer": "ipython3",
   "version": "3.10.12"
  }
 },
 "nbformat": 4,
 "nbformat_minor": 5
}
