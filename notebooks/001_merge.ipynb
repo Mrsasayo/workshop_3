{
 "cells": [
  {
   "cell_type": "code",
   "execution_count": 9,
   "id": "a99fd024",
   "metadata": {},
   "outputs": [
    {
     "name": "stderr",
     "output_type": "stream",
     "text": [
      "2025-05-22 16:18:46,570 - INFO - Inicio del notebook de unificación de datasets (001_merge.ipynb).\n"
     ]
    }
   ],
   "source": [
    "import pandas as pd\n",
    "import numpy as np\n",
    "import logging\n",
    "import os\n",
    "import matplotlib.pyplot as plt # <--- AÑADIR ESTA LÍNEA\n",
    "import seaborn as sns           # <--- AÑADIR ESTA LÍNEA\n",
    "\n",
    "\n",
    "# Configuración de logging\n",
    "logging.basicConfig(\n",
    "    level=logging.INFO,\n",
    "    format='%(asctime)s - %(levelname)s - %(message)s',\n",
    "    handlers=[\n",
    "        logging.FileHandler(\"001_merge.log\"), # Log específico para el merge\n",
    "        logging.StreamHandler()\n",
    "    ]\n",
    ")\n",
    "\n",
    "logging.info(\"Inicio del notebook de unificación de datasets (001_merge.ipynb).\")\n",
    "\n",
    "# Opciones de Pandas\n",
    "pd.set_option('display.max_columns', None)\n",
    "pd.set_option('display.max_rows', 100) # Podrías querer más para verificar el merge\n",
    "pd.set_option('display.float_format', lambda x: '%.3f' % x)"
   ]
  },
  {
   "cell_type": "code",
   "execution_count": 10,
   "id": "fd6d9b9c",
   "metadata": {},
   "outputs": [
    {
     "name": "stderr",
     "output_type": "stream",
     "text": [
      "2025-05-22 16:18:46,586 - INFO - Rutas a los archivos limpios definidas: {2015: '/home/nicolas/Escritorio/workshops_ETL/workshop_3/data/processed/2015_cleaned.csv', 2016: '/home/nicolas/Escritorio/workshops_ETL/workshop_3/data/processed/2016_cleaned.csv', 2017: '/home/nicolas/Escritorio/workshops_ETL/workshop_3/data/processed/2017_cleaned.csv', 2018: '/home/nicolas/Escritorio/workshops_ETL/workshop_3/data/processed/2018_cleaned.csv', 2019: '/home/nicolas/Escritorio/workshops_ETL/workshop_3/data/processed/2019_cleaned.csv'}\n",
      "2025-05-22 16:18:46,587 - INFO - Intentando cargar el archivo limpio: /home/nicolas/Escritorio/workshops_ETL/workshop_3/data/processed/2015_cleaned.csv\n",
      "2025-05-22 16:18:46,590 - INFO - Archivo 2015_cleaned.csv (2015) cargado exitosamente. Filas: 158, Columnas: 11\n",
      "2025-05-22 16:18:46,592 - INFO - Intentando cargar el archivo limpio: /home/nicolas/Escritorio/workshops_ETL/workshop_3/data/processed/2016_cleaned.csv\n",
      "2025-05-22 16:18:46,596 - INFO - Archivo 2016_cleaned.csv (2016) cargado exitosamente. Filas: 157, Columnas: 11\n",
      "2025-05-22 16:18:46,597 - INFO - Intentando cargar el archivo limpio: /home/nicolas/Escritorio/workshops_ETL/workshop_3/data/processed/2017_cleaned.csv\n",
      "2025-05-22 16:18:46,600 - INFO - Archivo 2017_cleaned.csv (2017) cargado exitosamente. Filas: 155, Columnas: 11\n",
      "2025-05-22 16:18:46,601 - INFO - Intentando cargar el archivo limpio: /home/nicolas/Escritorio/workshops_ETL/workshop_3/data/processed/2018_cleaned.csv\n",
      "2025-05-22 16:18:46,604 - INFO - Archivo 2018_cleaned.csv (2018) cargado exitosamente. Filas: 156, Columnas: 11\n",
      "2025-05-22 16:18:46,605 - INFO - Intentando cargar el archivo limpio: /home/nicolas/Escritorio/workshops_ETL/workshop_3/data/processed/2019_cleaned.csv\n",
      "2025-05-22 16:18:46,607 - INFO - Archivo 2019_cleaned.csv (2019) cargado exitosamente. Filas: 156, Columnas: 11\n",
      "2025-05-22 16:18:46,609 - INFO - Todos los DataFrames limpios fueron cargados exitosamente.\n"
     ]
    },
    {
     "name": "stdout",
     "output_type": "stream",
     "text": [
      "\n",
      "Primeras fila del DataFrame 2015 (Markdown):\n",
      "|   year | region         | country     |   happiness_rank |   happiness_score |   social_support |   health_life_expectancy |   generosity |   freedom_to_make_life_choices |   economy_gdp_per_capita |   perceptions_of_corruption |\n",
      "|-------:|:---------------|:------------|-----------------:|------------------:|-----------------:|-------------------------:|-------------:|-------------------------------:|-------------------------:|----------------------------:|\n",
      "|   2015 | Western Europe | Switzerland |                1 |             7.587 |          1.34951 |                  0.94143 |      0.29678 |                        0.66557 |                  1.39651 |                     0.41978 |\n",
      "\n",
      "Primeras fila del DataFrame 2016 (Markdown):\n",
      "|   year | region         | country   |   happiness_rank |   happiness_score |   social_support |   health_life_expectancy |   generosity |   freedom_to_make_life_choices |   economy_gdp_per_capita |   perceptions_of_corruption |\n",
      "|-------:|:---------------|:----------|-----------------:|------------------:|-----------------:|-------------------------:|-------------:|-------------------------------:|-------------------------:|----------------------------:|\n",
      "|   2016 | Western Europe | Denmark   |                1 |             7.526 |          1.16374 |                  0.79504 |      0.36171 |                        0.57941 |                  1.44178 |                     0.44453 |\n",
      "\n",
      "Primeras fila del DataFrame 2017 (Markdown):\n",
      "|   year | region         | country   |   happiness_rank |   happiness_score |   social_support |   health_life_expectancy |   generosity |   freedom_to_make_life_choices |   economy_gdp_per_capita |   perceptions_of_corruption |\n",
      "|-------:|:---------------|:----------|-----------------:|------------------:|-----------------:|-------------------------:|-------------:|-------------------------------:|-------------------------:|----------------------------:|\n",
      "|   2017 | Western Europe | Norway    |                1 |             7.537 |          1.53352 |                 0.796667 |     0.362012 |                       0.635423 |                  1.61646 |                    0.315964 |\n",
      "\n",
      "Primeras fila del DataFrame 2018 (Markdown):\n",
      "|   year | region         | country   |   happiness_rank |   happiness_score |   social_support |   health_life_expectancy |   generosity |   freedom_to_make_life_choices |   economy_gdp_per_capita |   perceptions_of_corruption |\n",
      "|-------:|:---------------|:----------|-----------------:|------------------:|-----------------:|-------------------------:|-------------:|-------------------------------:|-------------------------:|----------------------------:|\n",
      "|   2018 | Western Europe | Finland   |                1 |             7.632 |            1.592 |                    0.874 |        0.202 |                          0.681 |                    1.305 |                       0.393 |\n",
      "\n",
      "Primeras fila del DataFrame 2019 (Markdown):\n",
      "|   year | region         | country   |   happiness_rank |   happiness_score |   social_support |   health_life_expectancy |   generosity |   freedom_to_make_life_choices |   economy_gdp_per_capita |   perceptions_of_corruption |\n",
      "|-------:|:---------------|:----------|-----------------:|------------------:|-----------------:|-------------------------:|-------------:|-------------------------------:|-------------------------:|----------------------------:|\n",
      "|   2019 | Western Europe | Finland   |                1 |             7.769 |            1.587 |                    0.986 |        0.153 |                          0.596 |                     1.34 |                       0.393 |\n",
      "Resumen df_2015_clean: 158 filas, ['year', 'region', 'country', 'happiness_rank', 'happiness_score', 'social_support', 'health_life_expectancy', 'generosity', 'freedom_to_make_life_choices', 'economy_gdp_per_capita', 'perceptions_of_corruption']\n",
      "Resumen df_2016_clean: 157 filas, ['year', 'region', 'country', 'happiness_rank', 'happiness_score', 'social_support', 'health_life_expectancy', 'generosity', 'freedom_to_make_life_choices', 'economy_gdp_per_capita', 'perceptions_of_corruption']\n",
      "Resumen df_2017_clean: 155 filas, ['year', 'region', 'country', 'happiness_rank', 'happiness_score', 'social_support', 'health_life_expectancy', 'generosity', 'freedom_to_make_life_choices', 'economy_gdp_per_capita', 'perceptions_of_corruption']\n",
      "Resumen df_2018_clean: 156 filas, ['year', 'region', 'country', 'happiness_rank', 'happiness_score', 'social_support', 'health_life_expectancy', 'generosity', 'freedom_to_make_life_choices', 'economy_gdp_per_capita', 'perceptions_of_corruption']\n",
      "Resumen df_2019_clean: 156 filas, ['year', 'region', 'country', 'happiness_rank', 'happiness_score', 'social_support', 'health_life_expectancy', 'generosity', 'freedom_to_make_life_choices', 'economy_gdp_per_capita', 'perceptions_of_corruption']\n"
     ]
    }
   ],
   "source": [
    "# --- Definición de Rutas a los Archivos Limpios ---\n",
    "base_path_processed = \"/home/nicolas/Escritorio/workshops_ETL/workshop_3/data/processed/\"\n",
    "file_paths_cleaned = {\n",
    "    2015: os.path.join(base_path_processed, \"2015_cleaned.csv\"),\n",
    "    2016: os.path.join(base_path_processed, \"2016_cleaned.csv\"),\n",
    "    2017: os.path.join(base_path_processed, \"2017_cleaned.csv\"),\n",
    "    2018: os.path.join(base_path_processed, \"2018_cleaned.csv\"),\n",
    "    2019: os.path.join(base_path_processed, \"2019_cleaned.csv\")\n",
    "}\n",
    "\n",
    "logging.info(f\"Rutas a los archivos limpios definidas: {file_paths_cleaned}\")\n",
    "\n",
    "# --- Carga de los DataFrames Limpios ---\n",
    "dataframes_cleaned = {} # Diccionario para almacenar los DataFrames cargados\n",
    "all_loaded_successfully = True\n",
    "\n",
    "for year, path in file_paths_cleaned.items():\n",
    "    try:\n",
    "        logging.info(f\"Intentando cargar el archivo limpio: {path}\")\n",
    "        df = pd.read_csv(path)\n",
    "        dataframes_cleaned[year] = df\n",
    "        logging.info(f\"Archivo {os.path.basename(path)} ({year}) cargado exitosamente. Filas: {df.shape[0]}, Columnas: {df.shape[1]}\")\n",
    "        \n",
    "        # Verificación con head(1)\n",
    "        print(f\"\\nPrimeras fila del DataFrame {year} (Markdown):\")\n",
    "        print(df.head(1).to_markdown(index=False))\n",
    "        \n",
    "    except FileNotFoundError:\n",
    "        logging.error(f\"Error: El archivo limpio {path} no fue encontrado.\")\n",
    "        all_loaded_successfully = False\n",
    "        break # Detener si un archivo no se encuentra\n",
    "    except Exception as e:\n",
    "        logging.error(f\"Ocurrió un error al cargar {path}: {e}\")\n",
    "        all_loaded_successfully = False\n",
    "        break\n",
    "\n",
    "if not all_loaded_successfully:\n",
    "    logging.error(\"No todos los DataFrames limpios pudieron ser cargados. Revisar logs.\")\n",
    "    print(\"\\nError: No todos los DataFrames limpios pudieron ser cargados. Proceso detenido.\")\n",
    "else:\n",
    "    logging.info(\"Todos los DataFrames limpios fueron cargados exitosamente.\")\n",
    "    # Mostrar un pequeño resumen de los DFs cargados\n",
    "    for year, df_loaded in dataframes_cleaned.items():\n",
    "        print(f\"Resumen df_{year}_clean: {len(df_loaded)} filas, {df_loaded.columns.tolist()}\")"
   ]
  },
  {
   "cell_type": "code",
   "execution_count": 11,
   "id": "272a8baa",
   "metadata": {},
   "outputs": [
    {
     "name": "stderr",
     "output_type": "stream",
     "text": [
      "2025-05-22 16:18:46,621 - INFO - Analizando la presencia de países a través de los años.\n",
      "2025-05-22 16:18:46,622 - INFO - Año 2015: 158 países únicos.\n",
      "2025-05-22 16:18:46,623 - INFO - Año 2016: 157 países únicos.\n",
      "2025-05-22 16:18:46,625 - INFO - Año 2017: 155 países únicos.\n",
      "2025-05-22 16:18:46,626 - INFO - Año 2018: 156 países únicos.\n",
      "2025-05-22 16:18:46,627 - INFO - Año 2019: 156 países únicos.\n",
      "2025-05-22 16:18:46,627 - INFO - Número de países presentes en TODOS los años: 141\n",
      "2025-05-22 16:18:46,628 - INFO - Número de países que NO están presentes en todos los años: 29\n"
     ]
    },
    {
     "name": "stdout",
     "output_type": "stream",
     "text": [
      "\n",
      "Total de países únicos alguna vez listados en todos los datasets: 170\n",
      "\n",
      "Número de países presentes en TODOS los años: 141\n",
      "\n",
      "Número de países que NO están presentes en todos los años: 29\n",
      "Países no presentes en todos los años: ['Angola', 'Belize', 'Central African Republic', 'Comoros', 'Djibouti', 'Gambia', 'Hong Kong', 'Hong Kong S.A.R., China', 'Laos', 'Lesotho', 'Macedonia', 'Mozambique', 'Namibia', 'North Cyprus', 'North Macedonia', 'Northern Cyprus', 'Oman', 'Puerto Rico', 'Somalia', 'Somaliland Region', 'Somaliland region', 'South Sudan', 'Sudan', 'Suriname', 'Swaziland', 'Taiwan', 'Taiwan Province of China', 'Trinidad & Tobago', 'Trinidad and Tobago']\n",
      "\n",
      "Matriz de Presencia de Países por Año (True si está presente):\n",
      "|              |   2015 |   2016 |   2017 |   2018 |   2019 |\n",
      "|:-------------|-------:|-------:|-------:|-------:|-------:|\n",
      "| Mauritius    |      1 |      1 |      1 |      1 |      1 |\n",
      "| Tajikistan   |      1 |      1 |      1 |      1 |      1 |\n",
      "| Rwanda       |      1 |      1 |      1 |      1 |      1 |\n",
      "| Bahrain      |      1 |      1 |      1 |      1 |      1 |\n",
      "| Germany      |      1 |      1 |      1 |      1 |      1 |\n",
      "| Egypt        |      1 |      1 |      1 |      1 |      1 |\n",
      "| Croatia      |      1 |      1 |      1 |      1 |      1 |\n",
      "| North Cyprus |      1 |      1 |      1 |      0 |      0 |\n",
      "| South Sudan  |      0 |      1 |      1 |      1 |      1 |\n",
      "| Burundi      |      1 |      1 |      1 |      1 |      1 |\n",
      "\n",
      "Conteo de años en los que aparece cada país:\n",
      "|                          |   0 |\n",
      "|:-------------------------|----:|\n",
      "| Gambia                   |   1 |\n",
      "| Hong Kong S.A.R., China  |   1 |\n",
      "| Djibouti                 |   1 |\n",
      "| Oman                     |   1 |\n",
      "| Puerto Rico              |   1 |\n",
      "| North Macedonia          |   1 |\n",
      "| Somaliland region        |   1 |\n",
      "| Somaliland Region        |   1 |\n",
      "| Taiwan Province of China |   1 |\n",
      "| Swaziland                |   2 |\n",
      "| Suriname                 |   2 |\n",
      "| Trinidad & Tobago        |   2 |\n",
      "| Northern Cyprus          |   2 |\n",
      "| North Cyprus             |   3 |\n",
      "| Comoros                  |   3 |\n",
      "| Belize                   |   3 |\n",
      "| Trinidad and Tobago      |   3 |\n",
      "| Namibia                  |   4 |\n",
      "| Laos                     |   4 |\n",
      "| Macedonia                |   4 |\n",
      "| Lesotho                  |   4 |\n",
      "| Somalia                  |   4 |\n",
      "| South Sudan              |   4 |\n",
      "| Taiwan                   |   4 |\n",
      "| Sudan                    |   4 |\n",
      "| Mozambique               |   4 |\n",
      "| Central African Republic |   4 |\n",
      "| Angola                   |   4 |\n",
      "| Hong Kong                |   4 |\n",
      "| Bulgaria                 |   5 |\n"
     ]
    }
   ],
   "source": [
    "# --- Análisis de Presencia de Países por Año ---\n",
    "if all_loaded_successfully and dataframes_cleaned:\n",
    "    logging.info(\"Analizando la presencia de países a través de los años.\")\n",
    "    \n",
    "    all_countries_by_year = {}\n",
    "    all_countries_set = set() # Para obtener todos los países únicos alguna vez listados\n",
    "    \n",
    "    for year, df in dataframes_cleaned.items():\n",
    "        countries_in_year = set(df['country'].unique())\n",
    "        all_countries_by_year[year] = countries_in_year\n",
    "        all_countries_set.update(countries_in_year)\n",
    "        logging.info(f\"Año {year}: {len(countries_in_year)} países únicos.\")\n",
    "\n",
    "    print(f\"\\nTotal de países únicos alguna vez listados en todos los datasets: {len(all_countries_set)}\")\n",
    "\n",
    "    # Encontrar países presentes en TODOS los años (intersección)\n",
    "    if all_countries_by_year:\n",
    "        common_countries = set.intersection(*all_countries_by_year.values())\n",
    "        logging.info(f\"Número de países presentes en TODOS los años: {len(common_countries)}\")\n",
    "        print(f\"\\nNúmero de países presentes en TODOS los años: {len(common_countries)}\")\n",
    "        if len(common_countries) < 20: # Mostrar solo si la lista no es demasiado larga\n",
    "            print(f\"Países comunes: {sorted(list(common_countries))}\")\n",
    "\n",
    "    # Encontrar países que NO están en todos los años\n",
    "    countries_not_in_all_years = all_countries_set - common_countries\n",
    "    logging.info(f\"Número de países que NO están presentes en todos los años: {len(countries_not_in_all_years)}\")\n",
    "    print(f\"\\nNúmero de países que NO están presentes en todos los años: {len(countries_not_in_all_years)}\")\n",
    "    if len(countries_not_in_all_years) < 30 and len(countries_not_in_all_years) > 0: # Mostrar si la lista no es demasiado larga\n",
    "        print(f\"Países no presentes en todos los años: {sorted(list(countries_not_in_all_years))}\")\n",
    "    \n",
    "    # Opcional: Crear una matriz de presencia país-año\n",
    "    country_presence_df = pd.DataFrame(index=sorted(list(all_countries_set)))\n",
    "    for year, countries_in_year_set in all_countries_by_year.items():\n",
    "        country_presence_df[year] = country_presence_df.index.isin(countries_in_year_set)\n",
    "    \n",
    "    print(\"\\nMatriz de Presencia de Países por Año (True si está presente):\")\n",
    "    # Para una mejor visualización, podrías querer solo mostrar un fragmento o resumir\n",
    "    if len(country_presence_df) > 20:\n",
    "        print(country_presence_df.sample(10).to_markdown()) # Muestra 10 filas aleatorias\n",
    "    else:\n",
    "        print(country_presence_df.to_markdown())\n",
    "    \n",
    "    # Contar en cuántos años aparece cada país\n",
    "    country_appearance_counts = country_presence_df.sum(axis=1).sort_values()\n",
    "    print(\"\\nConteo de años en los que aparece cada país:\")\n",
    "    print(country_appearance_counts.head(30).to_markdown())\n",
    "    \n",
    "else:\n",
    "    logging.warning(\"No se puede realizar el análisis de presencia de países; DataFrames no cargados.\")"
   ]
  },
  {
   "cell_type": "code",
   "execution_count": 12,
   "id": "b8a5ae28",
   "metadata": {},
   "outputs": [
    {
     "name": "stderr",
     "output_type": "stream",
     "text": [
      "2025-05-22 16:18:46,665 - INFO - Verificando consistencia de columnas entre los DataFrames cargados.\n",
      "2025-05-22 16:18:46,667 - INFO - Todas las columnas coinciden en los DataFrames limpios.\n"
     ]
    },
    {
     "name": "stdout",
     "output_type": "stream",
     "text": [
      "\n",
      "Verificación de columnas: Todas las columnas coinciden en los DataFrames limpios.\n"
     ]
    }
   ],
   "source": [
    "# --- Verificación de Consistencia de Columnas (Opcional pero Recomendado) ---\n",
    "if all_loaded_successfully and dataframes_cleaned:\n",
    "    logging.info(\"Verificando consistencia de columnas entre los DataFrames cargados.\")\n",
    "    \n",
    "    # Tomar las columnas del primer DataFrame como referencia\n",
    "    reference_columns = None\n",
    "    reference_year = None\n",
    "    \n",
    "    all_columns_match = True\n",
    "    column_issues = []\n",
    "\n",
    "    for year, df in dataframes_cleaned.items():\n",
    "        if reference_columns is None:\n",
    "            reference_columns = sorted(df.columns.tolist()) # Comparamos conjuntos ordenados\n",
    "            reference_year = year\n",
    "        else:\n",
    "            current_columns = sorted(df.columns.tolist())\n",
    "            if current_columns != reference_columns:\n",
    "                all_columns_match = False\n",
    "                issue = (f\"Discrepancia de columnas en el año {year}. \"\n",
    "                         f\"Esperado (basado en {reference_year}): {reference_columns}. \"\n",
    "                         f\"Encontrado: {current_columns}. \"\n",
    "                         f\"Diferencias: Set A-B: {set(reference_columns) - set(current_columns)}, \"\n",
    "                         f\"Set B-A: {set(current_columns) - set(reference_columns)}\")\n",
    "                column_issues.append(issue)\n",
    "                logging.error(issue)\n",
    "\n",
    "    if all_columns_match:\n",
    "        logging.info(\"Todas las columnas coinciden en los DataFrames limpios.\")\n",
    "        print(\"\\nVerificación de columnas: Todas las columnas coinciden en los DataFrames limpios.\")\n",
    "    else:\n",
    "        logging.error(\"Discrepancia en las columnas entre los DataFrames limpios. Revisar los logs detallados.\")\n",
    "        print(\"\\nError en la verificación de columnas: No todas las columnas coinciden. Detalles:\")\n",
    "        for issue_detail in column_issues:\n",
    "            print(f\"- {issue_detail}\")\n",
    "        # Aquí podrías decidir detener el proceso o intentar una concatenación más permisiva,\n",
    "        # pero es mejor arreglar las discrepancias en los notebooks de limpieza.\n",
    "        all_loaded_successfully = False # Para detener la concatenación si hay problemas graves\n",
    "\n",
    "else:\n",
    "    if not dataframes_cleaned:\n",
    "        logging.warning(\"No hay DataFrames cargados para verificar columnas.\")\n",
    "    # El error de carga ya se habrá logueado."
   ]
  },
  {
   "cell_type": "code",
   "execution_count": 13,
   "id": "a7d54c6d",
   "metadata": {},
   "outputs": [
    {
     "name": "stderr",
     "output_type": "stream",
     "text": [
      "2025-05-22 16:18:46,720 - INFO - Iniciando concatenación de los DataFrames limpios.\n",
      "2025-05-22 16:18:46,723 - INFO - DataFrames concatenados exitosamente en df_unified.\n",
      "2025-05-22 16:18:46,723 - INFO - El DataFrame unificado tiene 782 filas y 11 columnas.\n"
     ]
    },
    {
     "name": "stdout",
     "output_type": "stream",
     "text": [
      "\n",
      "DataFrame Unificado (primeras 5 filas):\n",
      "|   year | region         | country     |   happiness_rank |   happiness_score |   social_support |   health_life_expectancy |   generosity |   freedom_to_make_life_choices |   economy_gdp_per_capita |   perceptions_of_corruption |\n",
      "|-------:|:---------------|:------------|-----------------:|------------------:|-----------------:|-------------------------:|-------------:|-------------------------------:|-------------------------:|----------------------------:|\n",
      "|   2015 | Western Europe | Switzerland |                1 |             7.587 |          1.34951 |                  0.94143 |      0.29678 |                        0.66557 |                  1.39651 |                     0.41978 |\n",
      "|   2015 | Western Europe | Iceland     |                2 |             7.561 |          1.40223 |                  0.94784 |      0.4363  |                        0.62877 |                  1.30232 |                     0.14145 |\n",
      "\n",
      "DataFrame Unificado (últimas 5 filas):\n",
      "|   year | region             | country                  |   happiness_rank |   happiness_score |   social_support |   health_life_expectancy |   generosity |   freedom_to_make_life_choices |   economy_gdp_per_capita |   perceptions_of_corruption |\n",
      "|-------:|:-------------------|:-------------------------|-----------------:|------------------:|-----------------:|-------------------------:|-------------:|-------------------------------:|-------------------------:|----------------------------:|\n",
      "|   2019 | Sub-Saharan Africa | Central African Republic |              155 |             3.083 |            0     |                    0.105 |        0.235 |                          0.225 |                    0.026 |                       0.035 |\n",
      "|   2019 | Sub-Saharan Africa | South Sudan              |              156 |             2.853 |            0.575 |                    0.295 |        0.202 |                          0.01  |                    0.306 |                       0.091 |\n",
      "\n",
      "Dimensiones del DataFrame Unificado: (782, 11)\n"
     ]
    }
   ],
   "source": [
    "# --- Concatenación de los DataFrames ---\n",
    "df_unified = None\n",
    "\n",
    "if all_loaded_successfully and dataframes_cleaned:\n",
    "    logging.info(\"Iniciando concatenación de los DataFrames limpios.\")\n",
    "    \n",
    "    # Convertir el diccionario de DataFrames a una lista para pd.concat\n",
    "    list_of_dfs_to_concat = [dataframes_cleaned[year] for year in sorted(dataframes_cleaned.keys())] # Ordenar por año\n",
    "    \n",
    "    try:\n",
    "        df_unified = pd.concat(list_of_dfs_to_concat, ignore_index=True)\n",
    "        logging.info(\"DataFrames concatenados exitosamente en df_unified.\")\n",
    "        logging.info(f\"El DataFrame unificado tiene {df_unified.shape[0]} filas y {df_unified.shape[1]} columnas.\")\n",
    "        \n",
    "        print(\"\\nDataFrame Unificado (primeras 5 filas):\")\n",
    "        print(df_unified.head(2).to_markdown(index=False))\n",
    "        print(\"\\nDataFrame Unificado (últimas 5 filas):\")\n",
    "        print(df_unified.tail(2).to_markdown(index=False))\n",
    "        print(f\"\\nDimensiones del DataFrame Unificado: {df_unified.shape}\")\n",
    "        \n",
    "    except Exception as e:\n",
    "        logging.error(f\"Error durante la concatenación de DataFrames: {e}\")\n",
    "        print(f\"\\nError durante la concatenación: {e}\")\n",
    "        df_unified = None\n",
    "else:\n",
    "    logging.warning(\"No se procederá con la concatenación debido a errores previos en la carga o verificación de columnas.\")\n",
    "    print(\"\\nNo se puede continuar con la concatenación.\")"
   ]
  },
  {
   "cell_type": "code",
   "execution_count": 14,
   "id": "d8456472",
   "metadata": {},
   "outputs": [
    {
     "name": "stderr",
     "output_type": "stream",
     "text": [
      "2025-05-22 16:18:46,738 - INFO - Realizando verificación final del DataFrame unificado.\n"
     ]
    },
    {
     "name": "stdout",
     "output_type": "stream",
     "text": [
      "\n",
      "Información del DataFrame Unificado:\n",
      "<class 'pandas.core.frame.DataFrame'>\n",
      "RangeIndex: 782 entries, 0 to 781\n",
      "Data columns (total 11 columns):\n",
      " #   Column                        Non-Null Count  Dtype  \n",
      "---  ------                        --------------  -----  \n",
      " 0   year                          782 non-null    int64  \n",
      " 1   region                        782 non-null    object \n",
      " 2   country                       782 non-null    object \n",
      " 3   happiness_rank                782 non-null    int64  \n",
      " 4   happiness_score               782 non-null    float64\n",
      " 5   social_support                782 non-null    float64\n",
      " 6   health_life_expectancy        782 non-null    float64\n",
      " 7   generosity                    782 non-null    float64\n",
      " 8   freedom_to_make_life_choices  782 non-null    float64\n",
      " 9   economy_gdp_per_capita        782 non-null    float64\n",
      " 10  perceptions_of_corruption     782 non-null    float64\n",
      "dtypes: float64(7), int64(2), object(2)\n",
      "memory usage: 67.3+ KB\n",
      "\n",
      "Conteo de valores nulos en el DataFrame Unificado:\n",
      "No hay valores nulos explícitos (NaN) en el DataFrame unificado.\n",
      "\n",
      "Valores únicos por año en el DataFrame Unificado:\n",
      "|   year |   count |\n",
      "|-------:|--------:|\n",
      "|   2015 |     158 |\n",
      "|   2016 |     157 |\n",
      "|   2017 |     155 |\n",
      "|   2018 |     156 |\n",
      "|   2019 |     156 |\n",
      "\n",
      "Estadísticas descriptivas del DataFrame Unificado:\n",
      "|        |       year | region             | country     |   happiness_rank |   happiness_score |   social_support |   health_life_expectancy |   generosity |   freedom_to_make_life_choices |   economy_gdp_per_capita |   perceptions_of_corruption |\n",
      "|:-------|-----------:|:-------------------|:------------|-----------------:|------------------:|-----------------:|-------------------------:|-------------:|-------------------------------:|-------------------------:|----------------------------:|\n",
      "| count  |  782       | 782                | 782         |         782      |         782       |       782        |               782        |   782        |                     782        |               782        |                  782        |\n",
      "| unique |  nan       | 10                 | 170         |         nan      |         nan       |       nan        |               nan        |   nan        |                     nan        |               nan        |                  nan        |\n",
      "| top    |  nan       | Sub-Saharan Africa | Switzerland |         nan      |         nan       |       nan        |               nan        |   nan        |                     nan        |               nan        |                  nan        |\n",
      "| freq   |  nan       | 195                | 5           |         nan      |         nan       |       nan        |               nan        |   nan        |                     nan        |               nan        |                  nan        |\n",
      "| mean   | 2016.99    | nan                | nan         |          78.6982 |           5.37902 |         1.07839  |                 0.612416 |     0.218576 |                       0.411091 |                 0.916047 |                    0.125438 |\n",
      "| std    |    1.41736 | nan                | nan         |          45.1824 |           1.12746 |         0.329548 |                 0.248309 |     0.122321 |                       0.15288  |                 0.40734  |                    0.105749 |\n",
      "| min    | 2015       | nan                | nan         |           1      |           2.693   |         0        |                 0        |     0        |                       0        |                 0        |                    0        |\n",
      "| 25%    | 2016       | nan                | nan         |          40      |           4.50975 |         0.869363 |                 0.440183 |     0.13     |                       0.309768 |                 0.6065   |                    0.05425  |\n",
      "| 50%    | 2017       | nan                | nan         |          79      |           5.322   |         1.12474  |                 0.64731  |     0.201982 |                       0.431    |                 0.982205 |                    0.091033 |\n",
      "| 75%    | 2018       | nan                | nan         |         118      |           6.1895  |         1.32725  |                 0.808    |     0.278832 |                       0.531    |                 1.23619  |                    0.155861 |\n",
      "| max    | 2019       | nan                | nan         |         158      |           7.769   |         1.644    |                 1.141    |     0.838075 |                       0.724    |                 2.096    |                    0.55191  |\n"
     ]
    }
   ],
   "source": [
    "# --- Verificación Final del DataFrame Unificado ---\n",
    "if df_unified is not None:\n",
    "    logging.info(\"Realizando verificación final del DataFrame unificado.\")\n",
    "    \n",
    "    print(\"\\nInformación del DataFrame Unificado:\")\n",
    "    df_unified.info()\n",
    "    \n",
    "    print(\"\\nConteo de valores nulos en el DataFrame Unificado:\")\n",
    "    null_unified_counts = df_unified.isnull().sum()\n",
    "    print(null_unified_counts[null_unified_counts > 0].to_markdown() if null_unified_counts.sum() > 0 else \"No hay valores nulos explícitos (NaN) en el DataFrame unificado.\")\n",
    "\n",
    "    print(\"\\nValores únicos por año en el DataFrame Unificado:\")\n",
    "    if 'year' in df_unified.columns:\n",
    "        print(df_unified['year'].value_counts().sort_index().to_markdown())\n",
    "    \n",
    "    # Podrías añadir más verificaciones aquí, como un describe()\n",
    "    print(\"\\nEstadísticas descriptivas del DataFrame Unificado:\")\n",
    "    print(df_unified.describe(include='all').to_markdown()) # include='all' para numéricas y categóricas\n",
    "    \n",
    "else:\n",
    "    logging.error(\"El DataFrame unificado (df_unified) no está disponible para verificación.\")\n",
    "    print(\"\\nEl DataFrame unificado no está disponible.\")"
   ]
  },
  {
   "cell_type": "code",
   "execution_count": 15,
   "id": "3e0fdb04",
   "metadata": {},
   "outputs": [
    {
     "name": "stderr",
     "output_type": "stream",
     "text": [
      "2025-05-22 16:18:46,770 - INFO - DataFrame unificado guardado exitosamente en: /home/nicolas/Escritorio/workshops_ETL/workshop_3/data/processed/happiness_unified_dataset.csv\n"
     ]
    },
    {
     "name": "stdout",
     "output_type": "stream",
     "text": [
      "\n",
      "DataFrame unificado guardado en: /home/nicolas/Escritorio/workshops_ETL/workshop_3/data/processed/happiness_unified_dataset.csv\n"
     ]
    }
   ],
   "source": [
    "# --- Guardar el DataFrame Unificado ---\n",
    "if df_unified is not None:\n",
    "    output_path_unified = os.path.join(base_path_processed, \"happiness_unified_dataset.csv\") # O .parquet para eficiencia\n",
    "    try:\n",
    "        df_unified.to_csv(output_path_unified, index=False)\n",
    "        logging.info(f\"DataFrame unificado guardado exitosamente en: {output_path_unified}\")\n",
    "        print(f\"\\nDataFrame unificado guardado en: {output_path_unified}\")\n",
    "    except Exception as e:\n",
    "        logging.error(f\"Error al guardar el DataFrame unificado: {e}\")\n",
    "        print(f\"\\nError al guardar el DataFrame unificado: {e}\")\n",
    "else:\n",
    "    logging.error(\"El DataFrame unificado (df_unified) no está disponible para ser guardado.\")\n",
    "    print(\"\\nEl DataFrame unificado no se puede guardar.\")"
   ]
  },
  {
   "cell_type": "code",
   "execution_count": 16,
   "id": "81d6b685",
   "metadata": {},
   "outputs": [
    {
     "name": "stderr",
     "output_type": "stream",
     "text": [
      "2025-05-22 16:18:46,779 - INFO - Generando Gráfico Lineal: Happiness Score Promedio por Año del dataset unificado completo.\n"
     ]
    },
    {
     "data": {
      "image/png": "[encoded data removed]",
      "text/plain": [
       "<Figure size 1000x600 with 1 Axes>"
      ]
     },
     "metadata": {},
     "output_type": "display_data"
    },
    {
     "name": "stderr",
     "output_type": "stream",
     "text": [
      "2025-05-22 16:18:46,916 - INFO - Gráfico Lineal del Happiness Score Promedio por Año (Dataset Unificado) mostrado.\n"
     ]
    }
   ],
   "source": [
    "# Celda 8: Gráfico de Línea - Happiness Score Promedio por Año (del Dataset Unificado Completo)\n",
    "\n",
    "if 'df_unified' in locals() and df_unified is not None and not df_unified.empty:\n",
    "    logging.info(\"Generando Gráfico Lineal: Happiness Score Promedio por Año del dataset unificado completo.\")\n",
    "    \n",
    "    # Calcular el promedio de 'happiness_score' por 'year'\n",
    "    avg_happiness_by_year_unified = df_unified.groupby('year')['happiness_score'].mean().reset_index()\n",
    "    \n",
    "    plt.figure(figsize=(10, 6))\n",
    "    sns.lineplot(x='year', y='happiness_score', data=avg_happiness_by_year_unified, marker='o', color='dodgerblue', linewidth=2.5)\n",
    "    \n",
    "    plt.title('Happiness Score Promedio Global por Año (Dataset Unificado)', fontsize=16)\n",
    "    plt.xlabel('Año', fontsize=14)\n",
    "    plt.ylabel('Happiness Score Promedio', fontsize=14)\n",
    "    plt.xticks(avg_happiness_by_year_unified['year'].unique()) # Asegurar que todos los años se muestren\n",
    "    plt.grid(True, linestyle='--', alpha=0.7)\n",
    "    plt.ylim(bottom=min(avg_happiness_by_year_unified['happiness_score']) - 0.1, \n",
    "             top=max(avg_happiness_by_year_unified['happiness_score']) + 0.1) # Ajustar límites del eje Y\n",
    "    \n",
    "    # Añadir etiquetas de valor a los puntos (opcional)\n",
    "    for index, row in avg_happiness_by_year_unified.iterrows():\n",
    "        plt.text(row['year'], row['happiness_score'] + 0.01, f\"{row['happiness_score']:.2f}\", \n",
    "                 ha='center', va='bottom', fontsize=9)\n",
    "\n",
    "    plt.tight_layout()\n",
    "    plt.show()\n",
    "    logging.info(\"Gráfico Lineal del Happiness Score Promedio por Año (Dataset Unificado) mostrado.\")\n",
    "else:\n",
    "    logging.warning(\"El DataFrame 'df_unified' no está disponible o está vacío. No se puede generar el gráfico.\")"
   ]
  }
 ],
 "metadata": {
  "kernelspec": {
   "display_name": "venv",
   "language": "python",
   "name": "python3"
  },
  "language_info": {
   "codemirror_mode": {
    "name": "ipython",
    "version": 3
   },
   "file_extension": ".py",
   "mimetype": "text/x-python",
   "name": "python",
   "nbconvert_exporter": "python",
   "pygments_lexer": "ipython3",
   "version": "3.10.12"
  }
 },
 "nbformat": 4,
 "nbformat_minor": 5
}
