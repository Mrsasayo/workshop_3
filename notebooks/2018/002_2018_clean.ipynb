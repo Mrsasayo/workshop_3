{
 "cells": [
  {
   "cell_type": "code",
   "execution_count": 1,
   "id": "ac27ef91",
   "metadata": {},
   "outputs": [
    {
     "name": "stderr",
     "output_type": "stream",
     "text": [
      "2025-05-20 17:47:28,065 - INFO - Inicio del notebook de limpieza y transformación para 2018.csv (002_2018_clean.ipynb).\n"
     ]
    }
   ],
   "source": [
    "import pandas as pd\n",
    "import numpy as np\n",
    "import logging\n",
    "import os\n",
    "\n",
    "logging.basicConfig(\n",
    "    level=logging.INFO,\n",
    "    format='%(asctime)s - %(levelname)s - %(message)s',\n",
    "    handlers=[\n",
    "        logging.FileHandler(\"002_2018_clean.log\"), # Actualizado para 2018\n",
    "        logging.StreamHandler()\n",
    "    ]\n",
    ")\n",
    "\n",
    "logging.info(\"Inicio del notebook de limpieza y transformación para 2018.csv (002_2018_clean.ipynb).\")\n",
    "\n",
    "pd.set_option('display.max_columns', None)\n",
    "pd.set_option('display.max_rows', 100)\n",
    "pd.set_option('display.float_format', lambda x: '%.3f' % x)"
   ]
  },
  {
   "cell_type": "code",
   "execution_count": 2,
   "id": "4aaf665c",
   "metadata": {},
   "outputs": [
    {
     "name": "stderr",
     "output_type": "stream",
     "text": [
      "2025-05-20 17:47:28,073 - INFO - Ruta del archivo raw a cargar: /home/nicolas/Escritorio/workshops ETL/workshop_3/data/raw/2018.csv\n",
      "2025-05-20 17:47:28,075 - INFO - Intentando cargar el archivo CSV: 2018.csv\n",
      "2025-05-20 17:47:28,078 - INFO - Archivo 2018.csv cargado exitosamente.\n",
      "2025-05-20 17:47:28,079 - INFO - El DataFrame df_2018_raw tiene 156 filas y 9 columnas.\n",
      "2025-05-20 17:47:28,079 - INFO - Copia del DataFrame creada como df_2018_clean para transformaciones.\n"
     ]
    }
   ],
   "source": [
    "# --- Definición de la ruta al archivo ---\n",
    "file_path_2018_raw = \"/home/nicolas/Escritorio/workshops ETL/workshop_3/data/raw/2018.csv\" # Actualizado\n",
    "logging.info(f\"Ruta del archivo raw a cargar: {file_path_2018_raw}\")\n",
    "\n",
    "df_2018_raw = None\n",
    "df_2018_clean = None\n",
    "\n",
    "try:\n",
    "    logging.info(f\"Intentando cargar el archivo CSV: {os.path.basename(file_path_2018_raw)}\")\n",
    "    # Manejar 'N/A' como NaN durante la carga\n",
    "    df_2018_raw = pd.read_csv(file_path_2018_raw, na_values=['N/A'])\n",
    "    logging.info(f\"Archivo {os.path.basename(file_path_2018_raw)} cargado exitosamente.\")\n",
    "    logging.info(f\"El DataFrame df_2018_raw tiene {df_2018_raw.shape[0]} filas y {df_2018_raw.shape[1]} columnas.\")\n",
    "    df_2018_clean = df_2018_raw.copy()\n",
    "    logging.info(\"Copia del DataFrame creada como df_2018_clean para transformaciones.\")\n",
    "\n",
    "except Exception as e:\n",
    "    logging.error(f\"Ocurrió un error al cargar {os.path.basename(file_path_2018_raw)}: {e}\")"
   ]
  },
  {
   "cell_type": "code",
   "execution_count": 3,
   "id": "1cb00e1d",
   "metadata": {},
   "outputs": [
    {
     "name": "stdout",
     "output_type": "stream",
     "text": [
      "DataFrame 2018 cargado y copiado para limpieza:\n",
      "|   Overall rank | Country or region   |   Score |   GDP per capita |   Social support |   Healthy life expectancy |   Freedom to make life choices |   Generosity |   Perceptions of corruption |\n",
      "|---------------:|:--------------------|--------:|-----------------:|-----------------:|--------------------------:|-------------------------------:|-------------:|----------------------------:|\n",
      "|              1 | Finland             |   7.632 |            1.305 |            1.592 |                     0.874 |                          0.681 |        0.202 |                       0.393 |\n",
      "|              2 | Norway              |   7.594 |            1.456 |            1.582 |                     0.861 |                          0.686 |        0.286 |                       0.34  |\n",
      "|              3 | Denmark             |   7.555 |            1.351 |            1.59  |                     0.868 |                          0.683 |        0.284 |                       0.408 |\n",
      "|              4 | Iceland             |   7.495 |            1.343 |            1.644 |                     0.914 |                          0.677 |        0.353 |                       0.138 |\n",
      "|              5 | Switzerland         |   7.487 |            1.42  |            1.549 |                     0.927 |                          0.66  |        0.256 |                       0.357 |\n"
     ]
    }
   ],
   "source": [
    "if df_2018_clean is not None:\n",
    "    print(\"DataFrame 2018 cargado y copiado para limpieza:\")\n",
    "    print(df_2018_clean.head().to_markdown(index=False))\n",
    "else:\n",
    "    print(\"Error al cargar df_2018_raw. No se puede continuar con la limpieza.\")\n",
    "    logging.error(\"Deteniendo el proceso de limpieza debido a un error en la carga de datos.\")"
   ]
  },
  {
   "cell_type": "code",
   "execution_count": 4,
   "id": "8977479a",
   "metadata": {},
   "outputs": [
    {
     "name": "stderr",
     "output_type": "stream",
     "text": [
      "2025-05-20 17:47:28,102 - INFO - Iniciando estandarización de nombres de columnas para df_2018.\n",
      "2025-05-20 17:47:28,104 - INFO - Columnas después del renombrado (df_2018_clean): ['happiness_rank', 'country', 'happiness_score', 'economy_gdp_per_capita', 'social_support', 'health_life_expectancy', 'freedom_to_make_life_choices', 'generosity', 'perceptions_of_corruption']\n"
     ]
    },
    {
     "name": "stdout",
     "output_type": "stream",
     "text": [
      "\n",
      "Columnas después del renombrado (df_2018_clean):\n",
      "|   happiness_rank | country   |   happiness_score |   economy_gdp_per_capita |   social_support |   health_life_expectancy |   freedom_to_make_life_choices |   generosity |   perceptions_of_corruption |\n",
      "|-----------------:|:----------|------------------:|-------------------------:|-----------------:|-------------------------:|-------------------------------:|-------------:|----------------------------:|\n",
      "|                1 | Finland   |             7.632 |                    1.305 |            1.592 |                    0.874 |                          0.681 |        0.202 |                       0.393 |\n",
      "|                2 | Norway    |             7.594 |                    1.456 |            1.582 |                    0.861 |                          0.686 |        0.286 |                       0.34  |\n"
     ]
    }
   ],
   "source": [
    "# --- Estandarización de Nombres de Columnas para df_2018_clean ---\n",
    "if df_2018_clean is not None:\n",
    "    logging.info(\"Iniciando estandarización de nombres de columnas para df_2018.\")\n",
    "    \n",
    "    column_mapping_2018_to_standard = {\n",
    "        'Country or region': 'country',\n",
    "        'Overall rank': 'happiness_rank',\n",
    "        'Score': 'happiness_score',\n",
    "        'GDP per capita': 'economy_gdp_per_capita',\n",
    "        'Social support': 'social_support',\n",
    "        'Healthy life expectancy': 'health_life_expectancy',\n",
    "        'Freedom to make life choices': 'freedom_to_make_life_choices',\n",
    "        'Perceptions of corruption': 'perceptions_of_corruption',\n",
    "        'Generosity': 'generosity'\n",
    "    }\n",
    "    \n",
    "    df_2018_clean.rename(columns=column_mapping_2018_to_standard, inplace=True)\n",
    "            \n",
    "    logging.info(f\"Columnas después del renombrado (df_2018_clean): {df_2018_clean.columns.tolist()}\")\n",
    "    print(\"\\nColumnas después del renombrado (df_2018_clean):\")\n",
    "    print(df_2018_clean.head(2).to_markdown(index=False))\n",
    "else:\n",
    "    logging.error(\"df_2018_clean no está cargado. No se puede renombrar columnas.\")"
   ]
  },
  {
   "cell_type": "code",
   "execution_count": 5,
   "id": "39456ffd",
   "metadata": {},
   "outputs": [
    {
     "name": "stderr",
     "output_type": "stream",
     "text": [
      "2025-05-20 17:47:28,123 - INFO - Iniciando creación de la columna 'region' para df_2018.\n",
      "2025-05-20 17:47:28,128 - INFO - Todos los países de df_2018 fueron mapeados a una región exitosamente.\n",
      "2025-05-20 17:47:28,129 - INFO - Columna 'region' creada y poblada en df_2018_clean.\n"
     ]
    }
   ],
   "source": [
    "# --- Creación de la Columna 'region' para df_2018_clean ---\n",
    "if df_2018_clean is not None:\n",
    "    logging.info(\"Iniciando creación de la columna 'region' para df_2018.\")\n",
    "    \n",
    "    # Mapeo actualizado incluyendo los países que faltaban y los nuevos no mapeados\n",
    "    country_to_region_map_2018 = {\n",
    "        \"Western Europe\": ['Finland', 'Denmark', 'Iceland', 'Switzerland', 'Netherlands', 'Austria',\n",
    "                            'Ireland', 'Germany', 'Belgium', 'Luxembourg', 'United Kingdom', 'France',\n",
    "                            'Spain', 'Portugal', 'Italy', 'Malta', 'Northern Cyprus', 'Cyprus', 'Norway', 'Sweden',\n",
    "                            'Greece'], # Añadido\n",
    "        \"North America\": ['Canada', 'United States'],\n",
    "        \"Australia and New Zealand\": ['Australia', 'New Zealand'],\n",
    "        \"Middle East and Northern Africa\": ['United Arab Emirates', 'Israel', 'Saudi Arabia', 'Qatar',\n",
    "                                             'Bahrain', 'Kuwait', 'Jordan', 'Lebanon', 'Egypt', 'Libya',\n",
    "                                             'Tunisia', 'Morocco', 'Algeria', 'Syria', 'Turkey', 'Iran', 'Iraq', 'Yemen',\n",
    "                                             'Azerbaijan', 'Palestinian Territories', 'Georgia', 'Armenia'], # Añadidos\n",
    "        \"Latin America and Caribbean\": ['Costa Rica', 'Chile', 'Argentina', 'Mexico', 'Guatemala', 'Panama',\n",
    "                                        'Colombia', 'Brazil', 'Uruguay', 'Paraguay', 'Peru', 'Bolivia',\n",
    "                                        'Ecuador', 'El Salvador', 'Nicaragua', 'Belize', 'Honduras', 'Jamaica',\n",
    "                                        'Dominican Republic', 'Trinidad & Tobago', 'Venezuela',\n",
    "                                        'Haiti'], # Añadido\n",
    "        \"Southeastern Asia\": ['Thailand', 'Singapore', 'Malaysia', 'Indonesia', 'Philippines', 'Vietnam',\n",
    "                               'Cambodia', 'Myanmar', 'Laos'],\n",
    "        \"Central and Eastern Europe\": ['Czech Republic', 'Slovakia', 'Slovenia', 'Poland', 'Hungary',\n",
    "                                       'Croatia', 'Bosnia and Herzegovina', 'Serbia', 'Romania', 'Bulgaria',\n",
    "                                       'Estonia', 'Latvia', 'Lithuania', 'Belarus', 'Moldova', 'Kosovo',\n",
    "                                       'Macedonia', # Asumiendo que 'Macedonia' es el nombre en el df\n",
    "                                       'North Macedonia', # Incluir ambos si no estás seguro del nombre exacto en el df\n",
    "                                       'Montenegro', 'Russia', 'Ukraine', 'Albania'],\n",
    "        \"Eastern Asia\": ['China', 'Hong Kong', 'Japan', 'South Korea', 'Taiwan', 'Mongolia'],\n",
    "        \"Sub-Saharan Africa\": ['Nigeria', 'South Africa', 'Kenya', 'Ethiopia', 'Uganda', 'Tanzania',\n",
    "                               'Ghana', 'Senegal', 'Cameroon', 'Congo (Kinshasa)', 'Congo (Brazzaville)',\n",
    "                               'Angola', 'Benin', 'Burkina Faso', 'Rwanda', 'Zimbabwe', 'Zambia', 'Mozambique',\n",
    "                               'Namibia', 'Madagascar', 'Botswana', 'Malawi', 'Niger', 'Mali', 'Chad',\n",
    "                               'Central African Republic', 'South Sudan', 'Somalia', 'Sierra Leone',\n",
    "                               'Liberia', 'Guinea', 'Ivory Coast', 'Mauritius', 'Gabon', 'Sudan',\n",
    "                               'Mauritania', 'Lesotho', 'Togo', 'Burundi'],\n",
    "        \"Southern Asia\": ['India', 'Pakistan', 'Bangladesh', 'Sri Lanka', 'Nepal', 'Bhutan', 'Afghanistan',\n",
    "                           'Kazakhstan', 'Kyrgyzstan', 'Tajikistan', 'Turkmenistan', 'Uzbekistan']\n",
    "    }\n",
    "\n",
    "    region_lookup_2018 = {}\n",
    "    for region, countries in country_to_region_map_2018.items():\n",
    "        for country_name in countries:\n",
    "            region_lookup_2018[country_name.strip()] = region\n",
    "            \n",
    "    # Estandarizar nombres de país en el DataFrame ANTES de mapear.\n",
    "    # Debes verificar los nombres EXACTOS en df_2018_clean['country'] para estos países no mapeados.\n",
    "    country_name_replacements_2018 = {\n",
    "        \"Trinidad & Tobago\": \"Trinidad & Tobago\", # Ejemplo, asegurar que coincida con la llave del mapa\n",
    "        # Si 'Macedonia' en el df debe mapear a 'North Macedonia' en tu mapa o viceversa, ajústalo aquí o en el mapa.\n",
    "        # Ej: \"Macedonia\": \"Macedonia\" (si la llave del mapa es \"Macedonia\")\n",
    "        # \"Palestinian Territories\": \"Palestinian Territories\" (si la llave del mapa es esa)\n",
    "    }\n",
    "    # Aplicar strip() primero, luego los reemplazos.\n",
    "    df_2018_clean['country_standardized_for_map'] = df_2018_clean['country'].str.strip().replace(country_name_replacements_2018)\n",
    "    \n",
    "    # Mapeo\n",
    "    df_2018_clean['region'] = df_2018_clean['country_standardized_for_map'].map(region_lookup_2018)\n",
    "    df_2018_clean.drop(columns=['country_standardized_for_map'], inplace=True)\n",
    "\n",
    "    unmapped_countries_2018 = df_2018_clean[df_2018_clean['region'].isnull()]['country'].unique()\n",
    "    if len(unmapped_countries_2018) > 0:\n",
    "        logging.warning(f\"Países NO mapeados a región en df_2018: {list(unmapped_countries_2018)}. Revisa el mapeo 'country_to_region_map_2018' y los nombres de país en el DataFrame (especialmente después de 'country_name_replacements_2018').\")\n",
    "        print(f\"\\nADVERTENCIA: Países no mapeados a región en df_2018: {list(unmapped_countries_2018)}.\")\n",
    "    else:\n",
    "        logging.info(\"Todos los países de df_2018 fueron mapeados a una región exitosamente.\")\n",
    "\n",
    "    logging.info(\"Columna 'region' creada y poblada en df_2018_clean.\")\n",
    "else:\n",
    "    logging.error(\"df_2018_clean no está cargado. No se puede crear la columna 'region'.\")"
   ]
  },
  {
   "cell_type": "code",
   "execution_count": 6,
   "id": "0953f2d7",
   "metadata": {},
   "outputs": [
    {
     "name": "stdout",
     "output_type": "stream",
     "text": [
      "<class 'pandas.core.frame.DataFrame'>\n",
      "RangeIndex: 156 entries, 0 to 155\n",
      "Data columns (total 10 columns):\n",
      " #   Column                        Non-Null Count  Dtype  \n",
      "---  ------                        --------------  -----  \n",
      " 0   happiness_rank                156 non-null    int64  \n",
      " 1   country                       156 non-null    object \n",
      " 2   happiness_score               156 non-null    float64\n",
      " 3   economy_gdp_per_capita        156 non-null    float64\n",
      " 4   social_support                156 non-null    float64\n",
      " 5   health_life_expectancy        156 non-null    float64\n",
      " 6   freedom_to_make_life_choices  156 non-null    float64\n",
      " 7   generosity                    156 non-null    float64\n",
      " 8   perceptions_of_corruption     155 non-null    float64\n",
      " 9   region                        156 non-null    object \n",
      "dtypes: float64(7), int64(1), object(2)\n",
      "memory usage: 12.3+ KB\n"
     ]
    }
   ],
   "source": [
    "df_2018_clean.info()"
   ]
  },
  {
   "cell_type": "code",
   "execution_count": 7,
   "id": "89dfb671",
   "metadata": {},
   "outputs": [
    {
     "name": "stderr",
     "output_type": "stream",
     "text": [
      "2025-05-20 17:47:28,150 - INFO - Verificando la columna 'region' creada en df_2018_clean.\n",
      "2025-05-20 17:47:28,152 - INFO - Valores únicos en 'region' (df_2018): ['Australia and New Zealand', 'Central and Eastern Europe', 'Eastern Asia', 'Latin America and Caribbean', 'Middle East and Northern Africa', 'North America', 'Southeastern Asia', 'Southern Asia', 'Sub-Saharan Africa', 'Western Europe']\n",
      "2025-05-20 17:47:28,154 - INFO - Conteo de valores por región (df_2018): {'Sub-Saharan Africa': 39, 'Latin America and Caribbean': 22, 'Middle East and Northern Africa': 22, 'Western Europe': 21, 'Central and Eastern Europe': 21, 'Southern Asia': 12, 'Southeastern Asia': 9, 'Eastern Asia': 6, 'North America': 2, 'Australia and New Zealand': 2}\n"
     ]
    },
    {
     "name": "stdout",
     "output_type": "stream",
     "text": [
      "\n",
      "Valores únicos en la columna 'region' (df_2018_clean):\n",
      "['Australia and New Zealand', 'Central and Eastern Europe', 'Eastern Asia', 'Latin America and Caribbean', 'Middle East and Northern Africa', 'North America', 'Southeastern Asia', 'Southern Asia', 'Sub-Saharan Africa', 'Western Europe']\n",
      "\n",
      "Conteo de países por región (df_2018_clean):\n",
      "| region                          |   count |\n",
      "|:--------------------------------|--------:|\n",
      "| Sub-Saharan Africa              |      39 |\n",
      "| Latin America and Caribbean     |      22 |\n",
      "| Middle East and Northern Africa |      22 |\n",
      "| Western Europe                  |      21 |\n",
      "| Central and Eastern Europe      |      21 |\n",
      "| Southern Asia                   |      12 |\n",
      "| Southeastern Asia               |       9 |\n",
      "| Eastern Asia                    |       6 |\n",
      "| North America                   |       2 |\n",
      "| Australia and New Zealand       |       2 |\n",
      "\n",
      "Ejemplo de países y sus regiones asignadas (df_2018_clean):\n",
      "| country            | region                          |\n",
      "|:-------------------|:--------------------------------|\n",
      "| Thailand           | Southeastern Asia               |\n",
      "| Kuwait             | Middle East and Northern Africa |\n",
      "| Brazil             | Latin America and Caribbean     |\n",
      "| Dominican Republic | Latin America and Caribbean     |\n",
      "| Senegal            | Sub-Saharan Africa              |\n"
     ]
    }
   ],
   "source": [
    "# --- Verificación de la Columna 'region' Creada (df_2018_clean) ---\n",
    "if df_2018_clean is not None and 'region' in df_2018_clean.columns:\n",
    "    logging.info(\"Verificando la columna 'region' creada en df_2018_clean.\")\n",
    "    \n",
    "    unique_regions_2018 = df_2018_clean['region'].unique()\n",
    "    print(\"\\nValores únicos en la columna 'region' (df_2018_clean):\")\n",
    "    print(sorted([str(r) for r in unique_regions_2018]))\n",
    "    logging.info(f\"Valores únicos en 'region' (df_2018): {sorted([str(r) for r in unique_regions_2018])}\")\n",
    "\n",
    "    print(\"\\nConteo de países por región (df_2018_clean):\")\n",
    "    region_value_counts_2018 = df_2018_clean['region'].value_counts(dropna=False)\n",
    "    print(region_value_counts_2018.to_markdown())\n",
    "    logging.info(f\"Conteo de valores por región (df_2018): {region_value_counts_2018.to_dict()}\")\n",
    "    \n",
    "    print(\"\\nEjemplo de países y sus regiones asignadas (df_2018_clean):\")\n",
    "    print(df_2018_clean[['country', 'region']].sample(5).to_markdown(index=False))\n",
    "else:\n",
    "    # ... (mismo manejo de error que antes)\n",
    "    if df_2018_clean is None: logging.error(\"df_2018_clean no está cargado.\")\n",
    "    else: logging.error(\"La columna 'region' no fue creada o no se encuentra en df_2018_clean.\")\n",
    "    print(\"\\nNo se puede verificar la columna 'region'.\")"
   ]
  },
  {
   "cell_type": "code",
   "execution_count": 8,
   "id": "8e626b07",
   "metadata": {},
   "outputs": [
    {
     "name": "stderr",
     "output_type": "stream",
     "text": [
      "2025-05-20 17:47:28,162 - INFO - No se eliminan columnas del DataFrame df_2018_clean según el plan.\n"
     ]
    },
    {
     "name": "stdout",
     "output_type": "stream",
     "text": [
      "\n",
      "No se eliminaron columnas de df_2018_clean.\n"
     ]
    }
   ],
   "source": [
    "# --- Eliminación de Columnas no Deseadas de df_2018_clean ---\n",
    "if df_2018_clean is not None:\n",
    "    logging.info(\"No se eliminan columnas del DataFrame df_2018_clean según el plan.\")\n",
    "    print(\"\\nNo se eliminaron columnas de df_2018_clean.\")\n",
    "else:\n",
    "    logging.error(\"df_2018_clean no está cargado.\")"
   ]
  },
  {
   "cell_type": "code",
   "execution_count": 9,
   "id": "cd66a8a6",
   "metadata": {},
   "outputs": [
    {
     "name": "stderr",
     "output_type": "stream",
     "text": [
      "2025-05-20 17:47:28,174 - INFO - Valores nulos en 'perceptions_of_corruption' antes de la imputación: 1\n",
      "2025-05-20 17:47:28,177 - INFO - Imputando NaNs en 'perceptions_of_corruption' con la mediana de su respectiva región. Mediana de la región 'Middle East and Northern Africa' (para el primer NaN encontrado) es: 0.1270\n"
     ]
    }
   ],
   "source": [
    "# --- Manejo de Valores Nulos en df_2018_clean ---\n",
    "if df_2018_clean is not None:\n",
    "    column_to_impute = 'perceptions_of_corruption'\n",
    "    if column_to_impute in df_2018_clean.columns:\n",
    "        \n",
    "        nan_indices_before = df_2018_clean[df_2018_clean[column_to_impute].isnull()].index\n",
    "        nulos_antes = len(nan_indices_before)\n",
    "        \n",
    "        logging.info(f\"Valores nulos en '{column_to_impute}' antes de la imputación: {nulos_antes}\")\n",
    "        \n",
    "        if nulos_antes > 0:\n",
    "            imputed_value_used = None # Variable para guardar el valor que se usó\n",
    "\n",
    "            if 'region' in df_2018_clean.columns and df_2018_clean.loc[nan_indices_before, 'region'].notnull().all():\n",
    "                \n",
    "                first_nan_index = nan_indices_before[0]\n",
    "                region_of_first_nan = df_2018_clean.loc[first_nan_index, 'region']\n",
    "                \n",
    "                # Calcular la mediana solo para esa región\n",
    "                median_for_specific_region = df_2018_clean[df_2018_clean['region'] == region_of_first_nan][column_to_impute].median()\n",
    "                \n",
    "                if pd.notnull(median_for_specific_region):\n",
    "                    imputed_value_used = median_for_specific_region\n",
    "                    logging.info(f\"Imputando NaNs en '{column_to_impute}' con la mediana de su respectiva región. Mediana de la región '{region_of_first_nan}' (para el primer NaN encontrado) es: {imputed_value_used:.4f}\")\n",
    "                    df_2018_clean[column_to_impute] = df_2018_clean.groupby('region')[column_to_impute].transform(lambda x: x.fillna(x.median()))\n",
    "                else: # Si no se puede calcular la mediana regional (ej. todos los valores de la región son NaN)\n",
    "                    logging.warning(f\"No se pudo calcular la mediana para la región '{region_of_first_nan}'. Se usará la mediana global.\")\n",
    "                    # Se pasará al bloque de mediana global\n",
    "\n",
    "        else:\n",
    "            logging.info(f\"No se encontraron NaNs para imputar en '{column_to_impute}'.\")\n",
    "    else:\n",
    "        logging.warning(f\"Columna '{column_to_impute}' no encontrada en df_2018_clean para imputación.\")\n",
    "else:\n",
    "    logging.error(\"df_2018_clean no está cargado. No se puede manejar nulos.\")"
   ]
  },
  {
   "cell_type": "code",
   "execution_count": 10,
   "id": "9533d65f",
   "metadata": {},
   "outputs": [
    {
     "name": "stdout",
     "output_type": "stream",
     "text": [
      "<class 'pandas.core.frame.DataFrame'>\n",
      "RangeIndex: 156 entries, 0 to 155\n",
      "Data columns (total 10 columns):\n",
      " #   Column                        Non-Null Count  Dtype  \n",
      "---  ------                        --------------  -----  \n",
      " 0   happiness_rank                156 non-null    int64  \n",
      " 1   country                       156 non-null    object \n",
      " 2   happiness_score               156 non-null    float64\n",
      " 3   economy_gdp_per_capita        156 non-null    float64\n",
      " 4   social_support                156 non-null    float64\n",
      " 5   health_life_expectancy        156 non-null    float64\n",
      " 6   freedom_to_make_life_choices  156 non-null    float64\n",
      " 7   generosity                    156 non-null    float64\n",
      " 8   perceptions_of_corruption     156 non-null    float64\n",
      " 9   region                        156 non-null    object \n",
      "dtypes: float64(7), int64(1), object(2)\n",
      "memory usage: 12.3+ KB\n"
     ]
    }
   ],
   "source": [
    "df_2018_clean.info()"
   ]
  },
  {
   "cell_type": "code",
   "execution_count": 11,
   "id": "19110d36",
   "metadata": {},
   "outputs": [
    {
     "name": "stderr",
     "output_type": "stream",
     "text": [
      "2025-05-20 17:47:28,207 - INFO - Columna 'year' con valor 2018 añadida a df_2018_clean.\n"
     ]
    }
   ],
   "source": [
    "# --- Añadir Columna 'year' ---\n",
    "if df_2018_clean is not None:\n",
    "    df_2018_clean['year'] = 2018 # Actualizado\n",
    "    logging.info(\"Columna 'year' con valor 2018 añadida a df_2018_clean.\")\n",
    "    # (El print se puede omitir aquí si ya se ve en la siguiente celda)\n",
    "else:\n",
    "    logging.error(\"df_2018_clean no está cargado.\")"
   ]
  },
  {
   "cell_type": "code",
   "execution_count": 12,
   "id": "4ac4211e",
   "metadata": {},
   "outputs": [
    {
     "name": "stderr",
     "output_type": "stream",
     "text": [
      "2025-05-20 17:47:28,217 - INFO - Espacios extra eliminados de la columna 'country' en df_2018_clean.\n"
     ]
    }
   ],
   "source": [
    "# --- Limpieza de Valores en Columna 'country' (Ejemplo) ---\n",
    "if df_2018_clean is not None:\n",
    "    if 'country' in df_2018_clean.columns:\n",
    "        df_2018_clean['country'] = df_2018_clean['country'].str.strip()\n",
    "        logging.info(\"Espacios extra eliminados de la columna 'country' en df_2018_clean.\")\n",
    "    # (El print se puede omitir aquí si ya se ve en la siguiente celda)\n",
    "else:\n",
    "    logging.error(\"df_2018_clean no está cargado.\")"
   ]
  },
  {
   "cell_type": "code",
   "execution_count": 13,
   "id": "5f1e45c1",
   "metadata": {},
   "outputs": [
    {
     "name": "stderr",
     "output_type": "stream",
     "text": [
      "2025-05-20 17:47:28,230 - INFO - Iniciando reordenamiento de columnas para df_2018_clean.\n",
      "2025-05-20 17:47:28,232 - INFO - Columnas reordenadas para df_2018_clean. Nuevo orden: ['year', 'region', 'country', 'happiness_rank', 'happiness_score', 'social_support', 'health_life_expectancy', 'generosity', 'freedom_to_make_life_choices', 'economy_gdp_per_capita', 'perceptions_of_corruption']\n"
     ]
    },
    {
     "name": "stdout",
     "output_type": "stream",
     "text": [
      "\n",
      "DataFrame df_2018_clean después de reordenar columnas:\n",
      "|   year | region         | country   |   happiness_rank |   happiness_score |   social_support |   health_life_expectancy |   generosity |   freedom_to_make_life_choices |   economy_gdp_per_capita |   perceptions_of_corruption |\n",
      "|-------:|:---------------|:----------|-----------------:|------------------:|-----------------:|-------------------------:|-------------:|-------------------------------:|-------------------------:|----------------------------:|\n",
      "|   2018 | Western Europe | Finland   |                1 |             7.632 |            1.592 |                    0.874 |        0.202 |                          0.681 |                    1.305 |                       0.393 |\n",
      "|   2018 | Western Europe | Norway    |                2 |             7.594 |            1.582 |                    0.861 |        0.286 |                          0.686 |                    1.456 |                       0.34  |\n"
     ]
    }
   ],
   "source": [
    "# --- Reordenamiento de Columnas para df_2018_clean ---\n",
    "if df_2018_clean is not None:\n",
    "    logging.info(\"Iniciando reordenamiento de columnas para df_2018_clean.\")\n",
    "    \n",
    "    desired_column_order = [\n",
    "        'year', 'region', 'country', 'happiness_rank', 'happiness_score',\n",
    "        'social_support', 'health_life_expectancy', 'generosity',\n",
    "        'freedom_to_make_life_choices', 'economy_gdp_per_capita',\n",
    "        'perceptions_of_corruption'\n",
    "    ]\n",
    "    \n",
    "    existing_columns_in_df = df_2018_clean.columns.tolist()\n",
    "    final_column_order_2018 = [col for col in desired_column_order if col in existing_columns_in_df]\n",
    "\n",
    "    # ... (lógica de verificación de columnas faltantes/extras y reordenamiento como en la celda para 2017)\n",
    "    missing_desired_cols = [col for col in desired_column_order if col not in final_column_order_2018] # Copiar lógica completa\n",
    "    if missing_desired_cols: logging.warning(f\"Columnas deseadas no encontradas en df_2018_clean: {missing_desired_cols}\")\n",
    "    extra_cols_in_df = [col for col in existing_columns_in_df if col not in final_column_order_2018]\n",
    "    if extra_cols_in_df: logging.warning(f\"Columnas extra en df_2018_clean que serán eliminadas: {extra_cols_in_df}\")\n",
    "\n",
    "    try:\n",
    "        df_2018_clean = df_2018_clean[final_column_order_2018]\n",
    "        logging.info(f\"Columnas reordenadas para df_2018_clean. Nuevo orden: {df_2018_clean.columns.tolist()}\")\n",
    "        print(\"\\nDataFrame df_2018_clean después de reordenar columnas:\")\n",
    "        print(df_2018_clean.head(2).to_markdown(index=False))\n",
    "    except KeyError as e:\n",
    "        logging.error(f\"Error al reordenar columnas en df_2018_clean: {e}\")\n",
    "else:\n",
    "    logging.error(\"df_2018_clean no está cargado.\")"
   ]
  },
  {
   "cell_type": "code",
   "execution_count": 14,
   "id": "7683bdb2",
   "metadata": {},
   "outputs": [
    {
     "name": "stderr",
     "output_type": "stream",
     "text": [
      "2025-05-20 17:47:28,242 - INFO - Mostrando información final de df_2018_clean (tipos de datos).\n"
     ]
    },
    {
     "name": "stdout",
     "output_type": "stream",
     "text": [
      "\n",
      "Información final del DataFrame df_2018_clean:\n",
      "<class 'pandas.core.frame.DataFrame'>\n",
      "RangeIndex: 156 entries, 0 to 155\n",
      "Data columns (total 11 columns):\n",
      " #   Column                        Non-Null Count  Dtype  \n",
      "---  ------                        --------------  -----  \n",
      " 0   year                          156 non-null    int64  \n",
      " 1   region                        156 non-null    object \n",
      " 2   country                       156 non-null    object \n",
      " 3   happiness_rank                156 non-null    int64  \n",
      " 4   happiness_score               156 non-null    float64\n",
      " 5   social_support                156 non-null    float64\n",
      " 6   health_life_expectancy        156 non-null    float64\n",
      " 7   generosity                    156 non-null    float64\n",
      " 8   freedom_to_make_life_choices  156 non-null    float64\n",
      " 9   economy_gdp_per_capita        156 non-null    float64\n",
      " 10  perceptions_of_corruption     156 non-null    float64\n",
      "dtypes: float64(7), int64(2), object(2)\n",
      "memory usage: 13.5+ KB\n"
     ]
    }
   ],
   "source": [
    "# --- Verificación de Tipos de Datos Final (df_2018_clean) ---\n",
    "if df_2018_clean is not None:\n",
    "    logging.info(\"Mostrando información final de df_2018_clean (tipos de datos).\")\n",
    "    print(\"\\nInformación final del DataFrame df_2018_clean:\")\n",
    "    df_2018_clean.info()\n",
    "else:\n",
    "    logging.error(\"df_2018_clean no está cargado.\")"
   ]
  },
  {
   "cell_type": "code",
   "execution_count": 15,
   "id": "250a2bb0",
   "metadata": {},
   "outputs": [
    {
     "name": "stderr",
     "output_type": "stream",
     "text": [
      "2025-05-20 17:47:28,282 - INFO - DataFrame limpio df_2018_clean guardado en: /home/nicolas/Escritorio/workshops ETL/workshop_3/data/processed/2018_cleaned.csv\n"
     ]
    },
    {
     "name": "stdout",
     "output_type": "stream",
     "text": [
      "\n",
      "DataFrame limpio df_2018_clean guardado en: /home/nicolas/Escritorio/workshops ETL/workshop_3/data/processed/2018_cleaned.csv\n"
     ]
    }
   ],
   "source": [
    "# --- Guardar el DataFrame Limpio df_2018_clean (Opcional) ---\n",
    "if df_2018_clean is not None:\n",
    "    output_path_2018 = \"/home/nicolas/Escritorio/workshops ETL/workshop_3/data/processed/2018_cleaned.csv\" # Actualizado\n",
    "    try:\n",
    "        df_2018_clean.to_csv(output_path_2018, index=False)\n",
    "        logging.info(f\"DataFrame limpio df_2018_clean guardado en: {output_path_2018}\")\n",
    "        print(f\"\\nDataFrame limpio df_2018_clean guardado en: {output_path_2018}\")\n",
    "    except Exception as e:\n",
    "        logging.error(f\"Error al guardar el DataFrame limpio df_2018_clean: {e}\")\n",
    "else:\n",
    "    logging.error(\"df_2018_clean no está cargado.\")"
   ]
  }
 ],
 "metadata": {
  "kernelspec": {
   "display_name": "venv",
   "language": "python",
   "name": "python3"
  },
  "language_info": {
   "codemirror_mode": {
    "name": "ipython",
    "version": 3
   },
   "file_extension": ".py",
   "mimetype": "text/x-python",
   "name": "python",
   "nbconvert_exporter": "python",
   "pygments_lexer": "ipython3",
   "version": "3.10.12"
  }
 },
 "nbformat": 4,
 "nbformat_minor": 5
}
