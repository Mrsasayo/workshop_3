{
 "cells": [
  {
   "cell_type": "code",
   "execution_count": 71,
   "id": "0a35915e",
   "metadata": {},
   "outputs": [
    {
     "name": "stderr",
     "output_type": "stream",
     "text": [
      "2025-05-18 21:55:24,566 - INFO - Inicio del notebook de limpieza y transformación para 2016.csv (002_2016_clean.ipynb).\n"
     ]
    }
   ],
   "source": [
    "import pandas as pd\n",
    "import numpy as np\n",
    "import logging\n",
    "import os\n",
    "\n",
    "logging.basicConfig(\n",
    "    level=logging.INFO,\n",
    "    format='%(asctime)s - %(levelname)s - %(message)s',\n",
    "    handlers=[\n",
    "        logging.FileHandler(\"002_2016_clean.log\"), # Actualizado para 2016\n",
    "        logging.StreamHandler()\n",
    "    ]\n",
    ")\n",
    "\n",
    "logging.info(\"Inicio del notebook de limpieza y transformación para 2016.csv (002_2016_clean.ipynb).\")\n",
    "\n",
    "pd.set_option('display.max_columns', None)\n",
    "pd.set_option('display.max_rows', 100)\n",
    "pd.set_option('display.float_format', lambda x: '%.3f' % x)"
   ]
  },
  {
   "cell_type": "code",
   "execution_count": 72,
   "id": "0b3f597c",
   "metadata": {},
   "outputs": [
    {
     "name": "stderr",
     "output_type": "stream",
     "text": [
      "2025-05-18 21:55:24,601 - INFO - Ruta del archivo raw a cargar: /home/nicolas/Escritorio/workshops ETL/workshop_3/data/raw/2016.csv\n",
      "2025-05-18 21:55:24,602 - INFO - Intentando cargar el archivo CSV: 2016.csv\n",
      "2025-05-18 21:55:24,604 - INFO - Archivo 2016.csv cargado exitosamente.\n",
      "2025-05-18 21:55:24,604 - INFO - El DataFrame df_2016_raw tiene 157 filas y 13 columnas.\n",
      "2025-05-18 21:55:24,604 - INFO - Copia del DataFrame creada como df_2016_clean para transformaciones.\n"
     ]
    }
   ],
   "source": [
    "# --- Definición de la ruta al archivo ---\n",
    "file_path_2016_raw = \"/home/nicolas/Escritorio/workshops ETL/workshop_3/data/raw/2016.csv\" # Actualizado\n",
    "logging.info(f\"Ruta del archivo raw a cargar: {file_path_2016_raw}\")\n",
    "\n",
    "df_2016_raw = None\n",
    "df_2016_clean = None\n",
    "\n",
    "try:\n",
    "    logging.info(f\"Intentando cargar el archivo CSV: {os.path.basename(file_path_2016_raw)}\")\n",
    "    df_2016_raw = pd.read_csv(file_path_2016_raw)\n",
    "    logging.info(f\"Archivo {os.path.basename(file_path_2016_raw)} cargado exitosamente.\")\n",
    "    logging.info(f\"El DataFrame df_2016_raw tiene {df_2016_raw.shape[0]} filas y {df_2016_raw.shape[1]} columnas.\")\n",
    "    df_2016_clean = df_2016_raw.copy()\n",
    "    logging.info(\"Copia del DataFrame creada como df_2016_clean para transformaciones.\")\n",
    "\n",
    "except Exception as e: # Captura genérica, puedes refinarla como en el EDA\n",
    "    logging.error(f\"Ocurrió un error al cargar {os.path.basename(file_path_2016_raw)}: {e}\")"
   ]
  },
  {
   "cell_type": "code",
   "execution_count": 73,
   "id": "481c4332",
   "metadata": {},
   "outputs": [
    {
     "name": "stdout",
     "output_type": "stream",
     "text": [
      "DataFrame 2016 cargado y copiado para limpieza:\n",
      "| Country     | Region         |   Happiness Rank |   Happiness Score |   Lower Confidence Interval |   Upper Confidence Interval |   Economy (GDP per Capita) |   Family |   Health (Life Expectancy) |   Freedom |   Trust (Government Corruption) |   Generosity |   Dystopia Residual |\n",
      "|:------------|:---------------|-----------------:|------------------:|----------------------------:|----------------------------:|---------------------------:|---------:|---------------------------:|----------:|--------------------------------:|-------------:|--------------------:|\n",
      "| Denmark     | Western Europe |                1 |             7.526 |                       7.46  |                       7.592 |                    1.44178 |  1.16374 |                    0.79504 |   0.57941 |                         0.44453 |      0.36171 |             2.73939 |\n",
      "| Switzerland | Western Europe |                2 |             7.509 |                       7.428 |                       7.59  |                    1.52733 |  1.14524 |                    0.86303 |   0.58557 |                         0.41203 |      0.28083 |             2.69463 |\n",
      "| Iceland     | Western Europe |                3 |             7.501 |                       7.333 |                       7.669 |                    1.42666 |  1.18326 |                    0.86733 |   0.56624 |                         0.14975 |      0.47678 |             2.83137 |\n",
      "| Norway      | Western Europe |                4 |             7.498 |                       7.421 |                       7.575 |                    1.57744 |  1.1269  |                    0.79579 |   0.59609 |                         0.35776 |      0.37895 |             2.66465 |\n",
      "| Finland     | Western Europe |                5 |             7.413 |                       7.351 |                       7.475 |                    1.40598 |  1.13464 |                    0.81091 |   0.57104 |                         0.41004 |      0.25492 |             2.82596 |\n"
     ]
    }
   ],
   "source": [
    "# Verificar carga antes de proceder\n",
    "if df_2016_clean is not None:\n",
    "    print(\"DataFrame 2016 cargado y copiado para limpieza:\")\n",
    "    print(df_2016_clean.head().to_markdown(index=False))\n",
    "else:\n",
    "    print(\"Error al cargar df_2016_raw. No se puede continuar con la limpieza.\")\n",
    "    logging.error(\"Deteniendo el proceso de limpieza debido a un error en la carga de datos.\")"
   ]
  },
  {
   "cell_type": "code",
   "execution_count": 74,
   "id": "6770896a",
   "metadata": {},
   "outputs": [
    {
     "name": "stderr",
     "output_type": "stream",
     "text": [
      "2025-05-18 21:55:24,619 - INFO - Iniciando estandarización de nombres de columnas para df_2016.\n",
      "2025-05-18 21:55:24,621 - INFO - Columnas después del renombrado (df_2016_clean): ['country', 'region', 'happiness_rank', 'happiness_score', 'Lower Confidence Interval', 'Upper Confidence Interval', 'economy_gdp_per_capita', 'social_support', 'health_life_expectancy', 'freedom_to_make_life_choices', 'perceptions_of_corruption', 'generosity', 'Dystopia Residual']\n"
     ]
    },
    {
     "name": "stdout",
     "output_type": "stream",
     "text": [
      "\n",
      "Columnas después del renombrado (df_2016_clean):\n",
      "| country     | region         |   happiness_rank |   happiness_score |   Lower Confidence Interval |   Upper Confidence Interval |   economy_gdp_per_capita |   social_support |   health_life_expectancy |   freedom_to_make_life_choices |   perceptions_of_corruption |   generosity |   Dystopia Residual |\n",
      "|:------------|:---------------|-----------------:|------------------:|----------------------------:|----------------------------:|-------------------------:|-----------------:|-------------------------:|-------------------------------:|----------------------------:|-------------:|--------------------:|\n",
      "| Denmark     | Western Europe |                1 |             7.526 |                       7.46  |                       7.592 |                  1.44178 |          1.16374 |                  0.79504 |                        0.57941 |                     0.44453 |      0.36171 |             2.73939 |\n",
      "| Switzerland | Western Europe |                2 |             7.509 |                       7.428 |                       7.59  |                  1.52733 |          1.14524 |                  0.86303 |                        0.58557 |                     0.41203 |      0.28083 |             2.69463 |\n"
     ]
    }
   ],
   "source": [
    "# --- Estandarización de Nombres de Columnas para df_2016_clean ---\n",
    "if df_2016_clean is not None:\n",
    "    logging.info(\"Iniciando estandarización de nombres de columnas para df_2016.\")\n",
    "    \n",
    "    column_mapping_2016_to_standard = {\n",
    "        'Country': 'country',\n",
    "        'Region': 'region',\n",
    "        'Happiness Rank': 'happiness_rank',\n",
    "        'Happiness Score': 'happiness_score',\n",
    "        'Economy (GDP per Capita)': 'economy_gdp_per_capita',\n",
    "        'Family': 'social_support',\n",
    "        'Health (Life Expectancy)': 'health_life_expectancy',\n",
    "        'Freedom': 'freedom_to_make_life_choices',\n",
    "        'Trust (Government Corruption)': 'perceptions_of_corruption',\n",
    "        'Generosity': 'generosity'\n",
    "    }\n",
    "    \n",
    "    df_2016_clean.rename(columns=column_mapping_2016_to_standard, inplace=True)\n",
    "            \n",
    "    logging.info(f\"Columnas después del renombrado (df_2016_clean): {df_2016_clean.columns.tolist()}\")\n",
    "    print(\"\\nColumnas después del renombrado (df_2016_clean):\")\n",
    "    print(df_2016_clean.head(2).to_markdown(index=False))\n",
    "else:\n",
    "    logging.error(\"df_2016_clean no está cargado. No se puede renombrar columnas.\")"
   ]
  },
  {
   "cell_type": "code",
   "execution_count": 75,
   "id": "ef9eb67d",
   "metadata": {},
   "outputs": [
    {
     "name": "stderr",
     "output_type": "stream",
     "text": [
      "2025-05-18 21:55:24,630 - INFO - Columnas eliminadas de df_2016_clean: ['Lower Confidence Interval', 'Upper Confidence Interval', 'Dystopia Residual']\n",
      "2025-05-18 21:55:24,631 - INFO - Columnas restantes: ['country', 'region', 'happiness_rank', 'happiness_score', 'economy_gdp_per_capita', 'social_support', 'health_life_expectancy', 'freedom_to_make_life_choices', 'perceptions_of_corruption', 'generosity']\n"
     ]
    },
    {
     "name": "stdout",
     "output_type": "stream",
     "text": [
      "\n",
      "Columnas eliminadas de df_2016_clean: ['Lower Confidence Interval', 'Upper Confidence Interval', 'Dystopia Residual']\n",
      "DataFrame df_2016_clean después de eliminar columnas:\n",
      "| country     | region         |   happiness_rank |   happiness_score |   economy_gdp_per_capita |   social_support |   health_life_expectancy |   freedom_to_make_life_choices |   perceptions_of_corruption |   generosity |\n",
      "|:------------|:---------------|-----------------:|------------------:|-------------------------:|-----------------:|-------------------------:|-------------------------------:|----------------------------:|-------------:|\n",
      "| Denmark     | Western Europe |                1 |             7.526 |                  1.44178 |          1.16374 |                  0.79504 |                        0.57941 |                     0.44453 |      0.36171 |\n",
      "| Switzerland | Western Europe |                2 |             7.509 |                  1.52733 |          1.14524 |                  0.86303 |                        0.58557 |                     0.41203 |      0.28083 |\n"
     ]
    }
   ],
   "source": [
    "# --- Eliminación de Columnas no Deseadas de df_2016_clean ---\n",
    "if df_2016_clean is not None:\n",
    "    # Nombres originales de las columnas a eliminar en el CSV de 2016\n",
    "    cols_to_drop_2016_original_names = ['Lower Confidence Interval', 'Upper Confidence Interval', 'Dystopia Residual']\n",
    "    \n",
    "    # Filtramos para asegurarnos que solo intentamos eliminar columnas que existen\n",
    "    # (Esto es por si la celda se corre múltiples veces o si alguna ya fue eliminada/renombrada)\n",
    "    # Para esta primera pasada, los nombres deberían ser los originales del CSV.\n",
    "    existing_cols_to_drop = [col for col in cols_to_drop_2016_original_names if col in df_2016_clean.columns]\n",
    "    \n",
    "    if existing_cols_to_drop:\n",
    "        df_2016_clean.drop(columns=existing_cols_to_drop, inplace=True)\n",
    "        logging.info(f\"Columnas eliminadas de df_2016_clean: {existing_cols_to_drop}\")\n",
    "        logging.info(f\"Columnas restantes: {df_2016_clean.columns.tolist()}\")\n",
    "        print(f\"\\nColumnas eliminadas de df_2016_clean: {existing_cols_to_drop}\")\n",
    "        print(\"DataFrame df_2016_clean después de eliminar columnas:\")\n",
    "        print(df_2016_clean.head(2).to_markdown(index=False))\n",
    "    else:\n",
    "        logging.info(\"No se encontraron columnas para eliminar en df_2016_clean o ya fueron eliminadas.\")\n",
    "        print(\"\\nNo se encontraron columnas especificadas para eliminar en df_2016_clean.\")\n",
    "else:\n",
    "    logging.error(\"df_2016_clean no está cargado. No se pueden eliminar columnas.\")"
   ]
  },
  {
   "cell_type": "code",
   "execution_count": 76,
   "id": "b899a134",
   "metadata": {},
   "outputs": [
    {
     "name": "stderr",
     "output_type": "stream",
     "text": [
      "2025-05-18 21:55:24,638 - INFO - Columna 'year' con valor 2016 añadida a df_2016_clean.\n"
     ]
    },
    {
     "name": "stdout",
     "output_type": "stream",
     "text": [
      "\n",
      "DataFrame df_2016_clean con la columna 'year':\n",
      "| country     | region         |   happiness_rank |   happiness_score |   economy_gdp_per_capita |   social_support |   health_life_expectancy |   freedom_to_make_life_choices |   perceptions_of_corruption |   generosity |   year |\n",
      "|:------------|:---------------|-----------------:|------------------:|-------------------------:|-----------------:|-------------------------:|-------------------------------:|----------------------------:|-------------:|-------:|\n",
      "| Denmark     | Western Europe |                1 |             7.526 |                  1.44178 |          1.16374 |                  0.79504 |                        0.57941 |                     0.44453 |      0.36171 |   2016 |\n",
      "| Switzerland | Western Europe |                2 |             7.509 |                  1.52733 |          1.14524 |                  0.86303 |                        0.58557 |                     0.41203 |      0.28083 |   2016 |\n"
     ]
    }
   ],
   "source": [
    "# --- Añadir Columna 'year' ---\n",
    "if df_2016_clean is not None:\n",
    "    df_2016_clean['year'] = 2016 # Actualizado\n",
    "    logging.info(\"Columna 'year' con valor 2016 añadida a df_2016_clean.\")\n",
    "    print(\"\\nDataFrame df_2016_clean con la columna 'year':\")\n",
    "    print(df_2016_clean.head(2).to_markdown(index=False))\n",
    "else:\n",
    "    logging.error(\"df_2016_clean no está cargado. No se puede añadir la columna 'year'.\")"
   ]
  },
  {
   "cell_type": "code",
   "execution_count": 77,
   "id": "5ee43067",
   "metadata": {},
   "outputs": [
    {
     "name": "stderr",
     "output_type": "stream",
     "text": [
      "2025-05-18 21:55:24,648 - INFO - Espacios extra eliminados de la columna 'country' en df_2016_clean.\n",
      "2025-05-18 21:55:24,650 - INFO - Espacios extra eliminados de la columna 'region' en df_2016_clean.\n"
     ]
    },
    {
     "name": "stdout",
     "output_type": "stream",
     "text": [
      "\n",
      "DataFrame df_2016_clean después de limpiar valores de 'country' y 'region' (si aplica):\n",
      "| country     | region         |   happiness_rank |   happiness_score |   economy_gdp_per_capita |   social_support |   health_life_expectancy |   freedom_to_make_life_choices |   perceptions_of_corruption |   generosity |   year |\n",
      "|:------------|:---------------|-----------------:|------------------:|-------------------------:|-----------------:|-------------------------:|-------------------------------:|----------------------------:|-------------:|-------:|\n",
      "| Denmark     | Western Europe |                1 |             7.526 |                  1.44178 |          1.16374 |                  0.79504 |                        0.57941 |                     0.44453 |      0.36171 |   2016 |\n",
      "| Switzerland | Western Europe |                2 |             7.509 |                  1.52733 |          1.14524 |                  0.86303 |                        0.58557 |                     0.41203 |      0.28083 |   2016 |\n"
     ]
    }
   ],
   "source": [
    "# --- Limpieza de Valores en Columnas 'country' y 'region' (Ejemplo) ---\n",
    "if df_2016_clean is not None:\n",
    "    if 'country' in df_2016_clean.columns:\n",
    "        df_2016_clean['country'] = df_2016_clean['country'].str.strip()\n",
    "        logging.info(\"Espacios extra eliminados de la columna 'country' en df_2016_clean.\")\n",
    "\n",
    "    if 'region' in df_2016_clean.columns:\n",
    "        df_2016_clean['region'] = df_2016_clean['region'].str.strip()\n",
    "        logging.info(\"Espacios extra eliminados de la columna 'region' en df_2016_clean.\")\n",
    "    \n",
    "    print(\"\\nDataFrame df_2016_clean después de limpiar valores de 'country' y 'region' (si aplica):\")\n",
    "    print(df_2016_clean.head(2).to_markdown(index=False))\n",
    "else:\n",
    "    logging.error(\"df_2016_clean no está cargado. No se puede limpiar valores de columnas.\")"
   ]
  },
  {
   "cell_type": "code",
   "execution_count": 78,
   "id": "2fdfae38",
   "metadata": {},
   "outputs": [
    {
     "name": "stderr",
     "output_type": "stream",
     "text": [
      "2025-05-18 21:55:24,660 - INFO - Iniciando reordenamiento de columnas para df_2016_clean.\n",
      "2025-05-18 21:55:24,662 - INFO - Columnas reordenadas exitosamente para df_2016_clean. Nuevo orden: ['year', 'region', 'country', 'happiness_rank', 'happiness_score', 'social_support', 'health_life_expectancy', 'generosity', 'freedom_to_make_life_choices', 'economy_gdp_per_capita', 'perceptions_of_corruption']\n"
     ]
    },
    {
     "name": "stdout",
     "output_type": "stream",
     "text": [
      "\n",
      "DataFrame df_2016_clean después de reordenar columnas:\n",
      "|   year | region         | country     |   happiness_rank |   happiness_score |   social_support |   health_life_expectancy |   generosity |   freedom_to_make_life_choices |   economy_gdp_per_capita |   perceptions_of_corruption |\n",
      "|-------:|:---------------|:------------|-----------------:|------------------:|-----------------:|-------------------------:|-------------:|-------------------------------:|-------------------------:|----------------------------:|\n",
      "|   2016 | Western Europe | Denmark     |                1 |             7.526 |          1.16374 |                  0.79504 |      0.36171 |                        0.57941 |                  1.44178 |                     0.44453 |\n",
      "|   2016 | Western Europe | Switzerland |                2 |             7.509 |          1.14524 |                  0.86303 |      0.28083 |                        0.58557 |                  1.52733 |                     0.41203 |\n"
     ]
    }
   ],
   "source": [
    "# --- Reordenamiento de Columnas para df_2016_clean ---\n",
    "if df_2016_clean is not None:\n",
    "    logging.info(\"Iniciando reordenamiento de columnas para df_2016_clean.\")\n",
    "    \n",
    "    desired_column_order = [\n",
    "        'year', 'region', 'country', 'happiness_rank', 'happiness_score',\n",
    "        'social_support', 'health_life_expectancy', 'generosity',\n",
    "        'freedom_to_make_life_choices', 'economy_gdp_per_capita',\n",
    "        'perceptions_of_corruption'\n",
    "    ]\n",
    "    \n",
    "    existing_columns_in_df = df_2016_clean.columns.tolist()\n",
    "    final_column_order_2016 = [col for col in desired_column_order if col in existing_columns_in_df]\n",
    "    \n",
    "    # Verificar si todas las columnas deseadas están presentes después de la limpieza\n",
    "    missing_desired_cols = [col for col in desired_column_order if col not in final_column_order_2016]\n",
    "    if missing_desired_cols:\n",
    "        logging.warning(f\"Las siguientes columnas deseadas no se encontraron en df_2016_clean y no se incluirán en el reordenamiento: {missing_desired_cols}\")\n",
    "\n",
    "    # Verificar si hay columnas extra en el df que no están en el orden deseado\n",
    "    extra_cols_in_df = [col for col in existing_columns_in_df if col not in final_column_order_2016]\n",
    "    if extra_cols_in_df:\n",
    "        logging.warning(f\"Las siguientes columnas existen en df_2016_clean pero no están en el orden deseado y serán eliminadas: {extra_cols_in_df}\")\n",
    "        # Si no quieres eliminarlas, debes añadirlas a 'final_column_order_2016'\n",
    "        # Ejemplo para añadirlas al final: final_column_order_2016.extend(extra_cols_in_df)\n",
    "        # Por ahora, la lógica actual las eliminará si no están en desired_column_order.\n",
    "\n",
    "    try:\n",
    "        df_2016_clean = df_2016_clean[final_column_order_2016]\n",
    "        logging.info(f\"Columnas reordenadas exitosamente para df_2016_clean. Nuevo orden: {df_2016_clean.columns.tolist()}\")\n",
    "        print(\"\\nDataFrame df_2016_clean después de reordenar columnas:\")\n",
    "        print(df_2016_clean.head(2).to_markdown(index=False))\n",
    "    except KeyError as e:\n",
    "        logging.error(f\"Error al reordenar columnas en df_2016_clean: {e}\")\n",
    "        # Loguear información útil para depuración\n",
    "        logging.error(f\"Columnas disponibles en df_2016_clean: {existing_columns_in_df}\")\n",
    "        logging.error(f\"Columnas intentadas en el reordenamiento: {final_column_order_2016}\")\n",
    "else:\n",
    "    logging.error(\"df_2016_clean no está cargado. No se puede reordenar columnas.\")"
   ]
  },
  {
   "cell_type": "code",
   "execution_count": 79,
   "id": "22573840",
   "metadata": {},
   "outputs": [
    {
     "name": "stderr",
     "output_type": "stream",
     "text": [
      "2025-05-18 21:55:24,668 - INFO - Mostrando información final de df_2016_clean (tipos de datos).\n"
     ]
    },
    {
     "name": "stdout",
     "output_type": "stream",
     "text": [
      "\n",
      "Información final del DataFrame df_2016_clean:\n",
      "<class 'pandas.core.frame.DataFrame'>\n",
      "RangeIndex: 157 entries, 0 to 156\n",
      "Data columns (total 11 columns):\n",
      " #   Column                        Non-Null Count  Dtype  \n",
      "---  ------                        --------------  -----  \n",
      " 0   year                          157 non-null    int64  \n",
      " 1   region                        157 non-null    object \n",
      " 2   country                       157 non-null    object \n",
      " 3   happiness_rank                157 non-null    int64  \n",
      " 4   happiness_score               157 non-null    float64\n",
      " 5   social_support                157 non-null    float64\n",
      " 6   health_life_expectancy        157 non-null    float64\n",
      " 7   generosity                    157 non-null    float64\n",
      " 8   freedom_to_make_life_choices  157 non-null    float64\n",
      " 9   economy_gdp_per_capita        157 non-null    float64\n",
      " 10  perceptions_of_corruption     157 non-null    float64\n",
      "dtypes: float64(7), int64(2), object(2)\n",
      "memory usage: 13.6+ KB\n"
     ]
    }
   ],
   "source": [
    "# --- Verificación de Tipos de Datos Final (df_2016_clean) ---\n",
    "if df_2016_clean is not None:\n",
    "    logging.info(\"Mostrando información final de df_2016_clean (tipos de datos).\")\n",
    "    print(\"\\nInformación final del DataFrame df_2016_clean:\")\n",
    "    df_2016_clean.info()\n",
    "else:\n",
    "    logging.error(\"df_2016_clean no está cargado.\")"
   ]
  },
  {
   "cell_type": "code",
   "execution_count": 80,
   "id": "04c91bd6",
   "metadata": {},
   "outputs": [
    {
     "name": "stderr",
     "output_type": "stream",
     "text": [
      "2025-05-18 21:55:24,683 - INFO - DataFrame limpio df_2016_clean guardado en: /home/nicolas/Escritorio/workshops ETL/workshop_3/data/processed/2016_cleaned.csv\n"
     ]
    },
    {
     "name": "stdout",
     "output_type": "stream",
     "text": [
      "\n",
      "DataFrame limpio df_2016_clean guardado en: /home/nicolas/Escritorio/workshops ETL/workshop_3/data/processed/2016_cleaned.csv\n"
     ]
    }
   ],
   "source": [
    "# --- Guardar el DataFrame Limpio df_2016_clean (Opcional) ---\n",
    "if df_2016_clean is not None:\n",
    "    output_path_2016 = \"/home/nicolas/Escritorio/workshops ETL/workshop_3/data/processed/2016_cleaned.csv\" # Actualizado\n",
    "    try:\n",
    "        df_2016_clean.to_csv(output_path_2016, index=False)\n",
    "        logging.info(f\"DataFrame limpio df_2016_clean guardado en: {output_path_2016}\")\n",
    "        print(f\"\\nDataFrame limpio df_2016_clean guardado en: {output_path_2016}\")\n",
    "    except Exception as e:\n",
    "        logging.error(f\"Error al guardar el DataFrame limpio df_2016_clean: {e}\")\n",
    "else:\n",
    "    logging.error(\"df_2016_clean no está cargado. No se puede guardar.\")"
   ]
  }
 ],
 "metadata": {
  "kernelspec": {
   "display_name": "venv",
   "language": "python",
   "name": "python3"
  },
  "language_info": {
   "codemirror_mode": {
    "name": "ipython",
    "version": 3
   },
   "file_extension": ".py",
   "mimetype": "text/x-python",
   "name": "python",
   "nbconvert_exporter": "python",
   "pygments_lexer": "ipython3",
   "version": "3.10.12"
  }
 },
 "nbformat": 4,
 "nbformat_minor": 5
}
