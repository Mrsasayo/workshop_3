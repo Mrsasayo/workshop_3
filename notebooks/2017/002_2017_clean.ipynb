{
 "cells": [
  {
   "cell_type": "code",
   "execution_count": 1,
   "id": "9b789101",
   "metadata": {},
   "outputs": [
    {
     "name": "stderr",
     "output_type": "stream",
     "text": [
      "2025-05-21 23:25:07,980 - INFO - Inicio del notebook de limpieza y transformación para 2017.csv (002_2017_clean.ipynb).\n"
     ]
    }
   ],
   "source": [
    "import pandas as pd\n",
    "import numpy as np\n",
    "import logging\n",
    "import os\n",
    "\n",
    "logging.basicConfig(\n",
    "    level=logging.INFO,\n",
    "    format='%(asctime)s - %(levelname)s - %(message)s',\n",
    "    handlers=[\n",
    "        logging.FileHandler(\"002_2017_clean.log\"), # Actualizado para 2017\n",
    "        logging.StreamHandler()\n",
    "    ]\n",
    ")\n",
    "\n",
    "logging.info(\"Inicio del notebook de limpieza y transformación para 2017.csv (002_2017_clean.ipynb).\")\n",
    "\n",
    "pd.set_option('display.max_columns', None)\n",
    "pd.set_option('display.max_rows', 100)\n",
    "pd.set_option('display.float_format', lambda x: '%.3f' % x)"
   ]
  },
  {
   "cell_type": "code",
   "execution_count": 2,
   "id": "a0a0531e",
   "metadata": {},
   "outputs": [
    {
     "name": "stderr",
     "output_type": "stream",
     "text": [
      "2025-05-21 23:25:07,988 - INFO - Ruta del archivo raw a cargar: /home/nicolas/Escritorio/workshops_ETL/workshop_3/data/raw/2017.csv\n",
      "2025-05-21 23:25:07,989 - INFO - Intentando cargar el archivo CSV: 2017.csv\n",
      "2025-05-21 23:25:07,992 - INFO - Archivo 2017.csv cargado exitosamente.\n",
      "2025-05-21 23:25:07,993 - INFO - El DataFrame df_2017_raw tiene 155 filas y 12 columnas.\n",
      "2025-05-21 23:25:07,994 - INFO - Copia del DataFrame creada como df_2017_clean para transformaciones.\n"
     ]
    }
   ],
   "source": [
    "# --- Definición de la ruta al archivo ---\n",
    "file_path_2017_raw = \"/home/nicolas/Escritorio/workshops_ETL/workshop_3/data/raw/2017.csv\" # Actualizado\n",
    "logging.info(f\"Ruta del archivo raw a cargar: {file_path_2017_raw}\")\n",
    "\n",
    "df_2017_raw = None\n",
    "df_2017_clean = None\n",
    "\n",
    "try:\n",
    "    logging.info(f\"Intentando cargar el archivo CSV: {os.path.basename(file_path_2017_raw)}\")\n",
    "    df_2017_raw = pd.read_csv(file_path_2017_raw)\n",
    "    logging.info(f\"Archivo {os.path.basename(file_path_2017_raw)} cargado exitosamente.\")\n",
    "    logging.info(f\"El DataFrame df_2017_raw tiene {df_2017_raw.shape[0]} filas y {df_2017_raw.shape[1]} columnas.\")\n",
    "    df_2017_clean = df_2017_raw.copy()\n",
    "    logging.info(\"Copia del DataFrame creada como df_2017_clean para transformaciones.\")\n",
    "\n",
    "except Exception as e:\n",
    "    logging.error(f\"Ocurrió un error al cargar {os.path.basename(file_path_2017_raw)}: {e}\")"
   ]
  },
  {
   "cell_type": "code",
   "execution_count": 3,
   "id": "08aa692b",
   "metadata": {},
   "outputs": [
    {
     "name": "stdout",
     "output_type": "stream",
     "text": [
      "DataFrame 2017 cargado y copiado para limpieza:\n",
      "| Country     |   Happiness.Rank |   Happiness.Score |   Whisker.high |   Whisker.low |   Economy..GDP.per.Capita. |   Family |   Health..Life.Expectancy. |   Freedom |   Generosity |   Trust..Government.Corruption. |   Dystopia.Residual |\n",
      "|:------------|-----------------:|------------------:|---------------:|--------------:|---------------------------:|---------:|---------------------------:|----------:|-------------:|--------------------------------:|--------------------:|\n",
      "| Norway      |                1 |             7.537 |        7.59444 |       7.47956 |                    1.61646 |  1.53352 |                   0.796667 |  0.635423 |     0.362012 |                        0.315964 |             2.27703 |\n",
      "| Denmark     |                2 |             7.522 |        7.58173 |       7.46227 |                    1.48238 |  1.55112 |                   0.792566 |  0.626007 |     0.35528  |                        0.40077  |             2.31371 |\n",
      "| Iceland     |                3 |             7.504 |        7.62203 |       7.38597 |                    1.48063 |  1.61057 |                   0.833552 |  0.627163 |     0.47554  |                        0.153527 |             2.32272 |\n",
      "| Switzerland |                4 |             7.494 |        7.56177 |       7.42623 |                    1.56498 |  1.51691 |                   0.858131 |  0.620071 |     0.290549 |                        0.367007 |             2.27672 |\n",
      "| Finland     |                5 |             7.469 |        7.52754 |       7.41046 |                    1.44357 |  1.54025 |                   0.809158 |  0.617951 |     0.245483 |                        0.382612 |             2.43018 |\n"
     ]
    }
   ],
   "source": [
    "if df_2017_clean is not None:\n",
    "    print(\"DataFrame 2017 cargado y copiado para limpieza:\")\n",
    "    print(df_2017_clean.head().to_markdown(index=False))\n",
    "else:\n",
    "    print(\"Error al cargar df_2017_raw. No se puede continuar con la limpieza.\")\n",
    "    logging.error(\"Deteniendo el proceso de limpieza debido a un error en la carga de datos.\")"
   ]
  },
  {
   "cell_type": "code",
   "execution_count": 4,
   "id": "925dc114",
   "metadata": {},
   "outputs": [
    {
     "name": "stderr",
     "output_type": "stream",
     "text": [
      "2025-05-21 23:25:08,012 - INFO - Iniciando estandarización de nombres de columnas para df_2017.\n",
      "2025-05-21 23:25:08,013 - INFO - Columnas después del renombrado (df_2017_clean): ['country', 'happiness_rank', 'happiness_score', 'Whisker.high', 'Whisker.low', 'economy_gdp_per_capita', 'social_support', 'health_life_expectancy', 'freedom_to_make_life_choices', 'generosity', 'perceptions_of_corruption', 'Dystopia.Residual']\n"
     ]
    },
    {
     "name": "stdout",
     "output_type": "stream",
     "text": [
      "\n",
      "Columnas después del renombrado (df_2017_clean):\n",
      "| country   |   happiness_rank |   happiness_score |   Whisker.high |   Whisker.low |   economy_gdp_per_capita |   social_support |   health_life_expectancy |   freedom_to_make_life_choices |   generosity |   perceptions_of_corruption |   Dystopia.Residual |\n",
      "|:----------|-----------------:|------------------:|---------------:|--------------:|-------------------------:|-----------------:|-------------------------:|-------------------------------:|-------------:|----------------------------:|--------------------:|\n",
      "| Norway    |                1 |             7.537 |        7.59444 |       7.47956 |                  1.61646 |          1.53352 |                 0.796667 |                       0.635423 |     0.362012 |                    0.315964 |             2.27703 |\n",
      "| Denmark   |                2 |             7.522 |        7.58173 |       7.46227 |                  1.48238 |          1.55112 |                 0.792566 |                       0.626007 |     0.35528  |                    0.40077  |             2.31371 |\n"
     ]
    }
   ],
   "source": [
    "# --- Estandarización de Nombres de Columnas para df_2017_clean ---\n",
    "if df_2017_clean is not None:\n",
    "    logging.info(\"Iniciando estandarización de nombres de columnas para df_2017.\")\n",
    "    \n",
    "    column_mapping_2017_to_standard = {\n",
    "        'Country': 'country', # Original en 2017 CSV es \"Country\" con comillas, Pandas lo lee sin ellas.\n",
    "        'Happiness.Rank': 'happiness_rank',\n",
    "        'Happiness.Score': 'happiness_score',\n",
    "        'Economy..GDP.per.Capita.': 'economy_gdp_per_capita',\n",
    "        'Family': 'social_support',\n",
    "        'Health..Life.Expectancy.': 'health_life_expectancy',\n",
    "        'Freedom': 'freedom_to_make_life_choices',\n",
    "        'Trust..Government.Corruption.': 'perceptions_of_corruption',\n",
    "        'Generosity': 'generosity'\n",
    "        # \"Whisker.high\", \"Whisker.low\", \"Dystopia.Residual\" se eliminarán.\n",
    "    }\n",
    "    \n",
    "    df_2017_clean.rename(columns=column_mapping_2017_to_standard, inplace=True)\n",
    "            \n",
    "    logging.info(f\"Columnas después del renombrado (df_2017_clean): {df_2017_clean.columns.tolist()}\")\n",
    "    print(\"\\nColumnas después del renombrado (df_2017_clean):\")\n",
    "    print(df_2017_clean.head(2).to_markdown(index=False))\n",
    "else:\n",
    "    logging.error(\"df_2017_clean no está cargado. No se puede renombrar columnas.\")"
   ]
  },
  {
   "cell_type": "code",
   "execution_count": 5,
   "id": "958ec269",
   "metadata": {},
   "outputs": [
    {
     "name": "stderr",
     "output_type": "stream",
     "text": [
      "2025-05-21 23:25:08,027 - INFO - Iniciando creación de la columna 'region' para df_2017.\n",
      "2025-05-21 23:25:08,031 - INFO - Todos los países fueron mapeados a una región exitosamente.\n",
      "2025-05-21 23:25:08,032 - INFO - Columna 'region' creada y poblada en df_2017_clean.\n"
     ]
    }
   ],
   "source": [
    "# --- Creación de la Columna 'region' para df_2017_clean ---\n",
    "if df_2017_clean is not None:\n",
    "    logging.info(\"Iniciando creación de la columna 'region' para df_2017.\")\n",
    "    \n",
    "    # Mapeo actualizado incluyendo los países que faltaban\n",
    "    country_to_region_map_2017 = {\n",
    "        \"Western Europe\": ['Norway', 'Denmark', 'Iceland', 'Switzerland', 'Finland', 'Netherlands',\n",
    "                            'Austria', 'Ireland', 'Germany', 'Belgium', 'Luxembourg', 'United Kingdom',\n",
    "                            'France', 'Spain', 'Italy', 'Portugal', 'Cyprus', 'Malta', 'Greece', 'North Cyprus',\n",
    "                            'Sweden'], # Añadido\n",
    "        \"North America\": ['Canada', 'United States'],\n",
    "        \"Australia and New Zealand\": ['Australia', 'New Zealand'],\n",
    "        \"Middle East and Northern Africa\": ['United Arab Emirates', 'Israel', 'Saudi Arabia', 'Qatar',\n",
    "                                             'Bahrain', 'Kuwait', 'Jordan', 'Lebanon', 'Egypt', 'Libya',\n",
    "                                             'Tunisia', 'Morocco', 'Algeria', 'Sudan', 'Palestinian Territories',\n",
    "                                             'Syria', 'Armenia', 'Azerbaijan', 'Georgia',\n",
    "                                             'Turkey', 'Iran', 'Iraq', 'Yemen'], # Añadidos\n",
    "        \"Latin America and Caribbean\": ['Costa Rica', 'Chile', 'Argentina', 'Mexico', 'Guatemala', 'Panama',\n",
    "                                        'Colombia', 'Brazil', 'Uruguay', 'Paraguay', 'Peru', 'Bolivia',\n",
    "                                        'Ecuador', 'El Salvador', 'Nicaragua', 'Belize', 'Honduras', 'Jamaica',\n",
    "                                        'Trinidad and Tobago', 'Dominican Republic', 'Venezuela',\n",
    "                                        'Haiti'], # Añadido\n",
    "        \"Southeastern Asia\": ['Thailand', 'Singapore', 'Malaysia', 'Indonesia', 'Philippines', 'Cambodia',\n",
    "                               'Vietnam', 'Myanmar', 'Laos'],\n",
    "        \"Central and Eastern Europe\": ['Czech Republic', 'Slovakia', 'Slovenia', 'Poland', 'Hungary',\n",
    "                                       'Croatia', 'Bosnia and Herzegovina', 'Serbia', 'Romania', 'Bulgaria',\n",
    "                                       'Estonia', 'Latvia', 'Lithuania', 'Belarus', 'Moldova', 'Ukraine',\n",
    "                                       'Kosovo', 'Macedonia', 'Montenegro', 'Russia', # Usamos 'Macedonia' si así está en el df_2017\n",
    "                                       'Albania'], # Añadido\n",
    "        \"Eastern Asia\": ['China', 'Hong Kong S.A.R., China', 'Japan', 'South Korea', 'Taiwan Province of China', 'Mongolia'],\n",
    "        \"Sub-Saharan Africa\": ['Nigeria', 'South Africa', 'Kenya', 'Ethiopia', 'Uganda', 'Tanzania',\n",
    "                               'Ghana', 'Senegal', 'Cameroon', 'Congo (Kinshasa)', 'Congo (Brazzaville)',\n",
    "                               'Angola', 'Benin', 'Burkina Faso', 'Rwanda', 'Zimbabwe', 'Zambia', 'Mozambique',\n",
    "                               'Namibia', 'Madagascar', 'Botswana', 'Malawi', 'Niger', 'Mali', 'Chad',\n",
    "                               'Central African Republic', 'South Sudan', 'Somalia', 'Sierra Leone',\n",
    "                               'Liberia', 'Guinea', 'Ivory Coast', 'Mauritius',\n",
    "                               'Gabon', 'Mauritania', 'Lesotho', 'Togo', 'Burundi'], # Añadidos\n",
    "        \"Southern Asia\": ['India', 'Pakistan', 'Bangladesh', 'Sri Lanka', 'Nepal', 'Bhutan', 'Afghanistan',\n",
    "                           'Kazakhstan', 'Kyrgyzstan', 'Tajikistan', 'Turkmenistan', 'Uzbekistan']\n",
    "    }\n",
    "\n",
    "    # Invertir el mapeo para lookup: country -> region\n",
    "    region_lookup = {}\n",
    "    for region, countries_in_region in country_to_region_map_2017.items():\n",
    "        for country_name_in_map in countries_in_region:\n",
    "            # Podríamos normalizar los nombres aquí si fuera necesario\n",
    "            # ej. country_name_in_map.strip().lower()\n",
    "            region_lookup[country_name_in_map] = region\n",
    "            \n",
    "    # Antes de mapear, es CRUCIAL que los nombres de país en df_2017_clean['country']\n",
    "    # coincidan con las llaves en region_lookup.\n",
    "    # Vamos a hacer un intento de mapeo directo y luego revisar los no mapeados.\n",
    "    \n",
    "    # Normalizar/limpiar nombres de país en el DataFrame ANTES de mapear\n",
    "    # Esto es un ejemplo, necesitarás identificar las discrepancias exactas.\n",
    "    country_name_replacements = {\n",
    "        \"Hong Kong S.A.R., China\": \"Hong Kong S.A.R., China\", # Asegurar que coincida con tu mapa si es diferente\n",
    "        \"Taiwan Province of China\": \"Taiwan Province of China\", # Asegurar que coincida con tu mapa\n",
    "        # Añade más reemplazos si es necesario\n",
    "        # \"Macedonia\": \"North Macedonia\" # Si tu mapa usa North Macedonia, pero el df solo Macedonia\n",
    "    }\n",
    "    df_2017_clean['country_standardized_for_map'] = df_2017_clean['country'].replace(country_name_replacements).str.strip()\n",
    "    \n",
    "    # Aplicar el mapeo para crear la nueva columna 'region' usando la columna estandarizada temporal\n",
    "    df_2017_clean['region'] = df_2017_clean['country_standardized_for_map'].map(region_lookup)\n",
    "    \n",
    "    # Eliminar la columna temporal\n",
    "    df_2017_clean.drop(columns=['country_standardized_for_map'], inplace=True)\n",
    "\n",
    "    # Verificar países que no obtuvieron una región\n",
    "    unmapped_countries = df_2017_clean[df_2017_clean['region'].isnull()]['country'].unique()\n",
    "    if len(unmapped_countries) > 0:\n",
    "        logging.warning(f\"Los siguientes países NO pudieron ser mapeados a una región y tendrán NaN en 'region': {list(unmapped_countries)}\")\n",
    "        print(f\"\\nADVERTENCIA: Países no mapeados a región: {list(unmapped_countries)}. Revisa el mapeo 'country_to_region_map_2017' y los nombres de país en el DataFrame.\")\n",
    "    else:\n",
    "        logging.info(\"Todos los países fueron mapeados a una región exitosamente.\")\n",
    "\n",
    "    logging.info(\"Columna 'region' creada y poblada en df_2017_clean.\")\n",
    "    # La verificación se hará en la siguiente celda.\n",
    "else:\n",
    "    logging.error(\"df_2017_clean no está cargado. No se puede crear la columna 'region'.\")"
   ]
  },
  {
   "cell_type": "code",
   "execution_count": 6,
   "id": "204fa7f8",
   "metadata": {},
   "outputs": [
    {
     "name": "stdout",
     "output_type": "stream",
     "text": [
      "<class 'pandas.core.frame.DataFrame'>\n",
      "RangeIndex: 155 entries, 0 to 154\n",
      "Data columns (total 13 columns):\n",
      " #   Column                        Non-Null Count  Dtype  \n",
      "---  ------                        --------------  -----  \n",
      " 0   country                       155 non-null    object \n",
      " 1   happiness_rank                155 non-null    int64  \n",
      " 2   happiness_score               155 non-null    float64\n",
      " 3   Whisker.high                  155 non-null    float64\n",
      " 4   Whisker.low                   155 non-null    float64\n",
      " 5   economy_gdp_per_capita        155 non-null    float64\n",
      " 6   social_support                155 non-null    float64\n",
      " 7   health_life_expectancy        155 non-null    float64\n",
      " 8   freedom_to_make_life_choices  155 non-null    float64\n",
      " 9   generosity                    155 non-null    float64\n",
      " 10  perceptions_of_corruption     155 non-null    float64\n",
      " 11  Dystopia.Residual             155 non-null    float64\n",
      " 12  region                        155 non-null    object \n",
      "dtypes: float64(10), int64(1), object(2)\n",
      "memory usage: 15.9+ KB\n"
     ]
    }
   ],
   "source": [
    "df_2017_clean.info()"
   ]
  },
  {
   "cell_type": "code",
   "execution_count": 7,
   "id": "c66e3a4b",
   "metadata": {},
   "outputs": [
    {
     "name": "stderr",
     "output_type": "stream",
     "text": [
      "2025-05-21 23:25:08,048 - INFO - Verificando la columna 'region' creada en df_2017_clean.\n",
      "2025-05-21 23:25:08,049 - INFO - Valores únicos en 'region': ['Australia and New Zealand', 'Central and Eastern Europe', 'Eastern Asia', 'Latin America and Caribbean', 'Middle East and Northern Africa', 'North America', 'Southeastern Asia', 'Southern Asia', 'Sub-Saharan Africa', 'Western Europe']\n",
      "2025-05-21 23:25:08,051 - INFO - Conteo de valores por región: {'Sub-Saharan Africa': 38, 'Middle East and Northern Africa': 23, 'Latin America and Caribbean': 22, 'Western Europe': 21, 'Central and Eastern Europe': 21, 'Southern Asia': 12, 'Southeastern Asia': 8, 'Eastern Asia': 6, 'North America': 2, 'Australia and New Zealand': 2}\n"
     ]
    },
    {
     "name": "stdout",
     "output_type": "stream",
     "text": [
      "\n",
      "Valores únicos en la columna 'region' (df_2017_clean):\n",
      "['Australia and New Zealand', 'Central and Eastern Europe', 'Eastern Asia', 'Latin America and Caribbean', 'Middle East and Northern Africa', 'North America', 'Southeastern Asia', 'Southern Asia', 'Sub-Saharan Africa', 'Western Europe']\n",
      "\n",
      "Conteo de países por región (df_2017_clean):\n",
      "| region                          |   count |\n",
      "|:--------------------------------|--------:|\n",
      "| Sub-Saharan Africa              |      38 |\n",
      "| Middle East and Northern Africa |      23 |\n",
      "| Latin America and Caribbean     |      22 |\n",
      "| Western Europe                  |      21 |\n",
      "| Central and Eastern Europe      |      21 |\n",
      "| Southern Asia                   |      12 |\n",
      "| Southeastern Asia               |       8 |\n",
      "| Eastern Asia                    |       6 |\n",
      "| North America                   |       2 |\n",
      "| Australia and New Zealand       |       2 |\n",
      "\n",
      "Ejemplo de países y sus regiones asignadas (df_2017_clean):\n",
      "| country     | region                    |\n",
      "|:------------|:--------------------------|\n",
      "| Uganda      | Sub-Saharan Africa        |\n",
      "| Malta       | Western Europe            |\n",
      "| Australia   | Australia and New Zealand |\n",
      "| Afghanistan | Southern Asia             |\n",
      "| Switzerland | Western Europe            |\n"
     ]
    }
   ],
   "source": [
    "# --- Verificación de la Columna 'region' Creada (df_2017_clean) ---\n",
    "if df_2017_clean is not None and 'region' in df_2017_clean.columns:\n",
    "    logging.info(\"Verificando la columna 'region' creada en df_2017_clean.\")\n",
    "    \n",
    "    # 1. Mostrar los valores únicos de la columna 'region'\n",
    "    unique_regions = df_2017_clean['region'].unique()\n",
    "    print(\"\\nValores únicos en la columna 'region' (df_2017_clean):\")\n",
    "    # Convertir a lista para un print más limpio si hay NaNs (que son float)\n",
    "    print(sorted([str(r) for r in unique_regions])) \n",
    "    logging.info(f\"Valores únicos en 'region': {sorted([str(r) for r in unique_regions])}\")\n",
    "\n",
    "    # 2. Mostrar el conteo de países por cada región\n",
    "    print(\"\\nConteo de países por región (df_2017_clean):\")\n",
    "    region_value_counts = df_2017_clean['region'].value_counts(dropna=False) # dropna=False para ver conteo de NaNs si los hay\n",
    "    print(region_value_counts.to_markdown())\n",
    "    logging.info(f\"Conteo de valores por región: {region_value_counts.to_dict()}\")\n",
    "    \n",
    "    # 3. Mostrar algunas filas con país y su región asignada\n",
    "    print(\"\\nEjemplo de países y sus regiones asignadas (df_2017_clean):\")\n",
    "    print(df_2017_clean[['country', 'region']].sample(5).to_markdown(index=False)) # Muestra 5 filas aleatorias\n",
    "\n",
    "else:\n",
    "    if df_2017_clean is None:\n",
    "        logging.error(\"df_2017_clean no está cargado.\")\n",
    "    else:\n",
    "        logging.error(\"La columna 'region' no fue creada o no se encuentra en df_2017_clean.\")\n",
    "    print(\"\\nNo se puede verificar la columna 'region'. DataFrame no cargado o columna 'region' ausente.\")"
   ]
  },
  {
   "cell_type": "code",
   "execution_count": 8,
   "id": "41cafa51",
   "metadata": {},
   "outputs": [
    {
     "name": "stderr",
     "output_type": "stream",
     "text": [
      "2025-05-21 23:25:08,061 - INFO - Columnas eliminadas de df_2017_clean: ['Whisker.high', 'Whisker.low', 'Dystopia.Residual']\n",
      "2025-05-21 23:25:08,062 - INFO - Columnas restantes en df_2017_clean: ['country', 'happiness_rank', 'happiness_score', 'economy_gdp_per_capita', 'social_support', 'health_life_expectancy', 'freedom_to_make_life_choices', 'generosity', 'perceptions_of_corruption', 'region']\n"
     ]
    },
    {
     "name": "stdout",
     "output_type": "stream",
     "text": [
      "\n",
      "Columnas eliminadas de df_2017_clean: ['Whisker.high', 'Whisker.low', 'Dystopia.Residual']\n",
      "DataFrame df_2017_clean después de eliminar columnas:\n",
      "| country   |   happiness_rank |   happiness_score |   economy_gdp_per_capita |   social_support |   health_life_expectancy |   freedom_to_make_life_choices |   generosity |   perceptions_of_corruption | region         |\n",
      "|:----------|-----------------:|------------------:|-------------------------:|-----------------:|-------------------------:|-------------------------------:|-------------:|----------------------------:|:---------------|\n",
      "| Norway    |                1 |             7.537 |                  1.61646 |          1.53352 |                 0.796667 |                       0.635423 |     0.362012 |                    0.315964 | Western Europe |\n",
      "| Denmark   |                2 |             7.522 |                  1.48238 |          1.55112 |                 0.792566 |                       0.626007 |     0.35528  |                    0.40077  | Western Europe |\n"
     ]
    }
   ],
   "source": [
    "# --- Eliminación de Columnas no Deseadas de df_2017_clean ---\n",
    "if df_2017_clean is not None:\n",
    "    # Nombres originales de las columnas a eliminar en el CSV de 2017\n",
    "    # Estos son los nombres ANTES del renombrado de la Celda 3\n",
    "    cols_to_drop_2017_original_names = ['Whisker.high', 'Whisker.low', 'Dystopia.Residual']\n",
    "    \n",
    "    existing_cols_to_drop = [col for col in cols_to_drop_2017_original_names if col in df_2017_clean.columns]\n",
    "    \n",
    "    if existing_cols_to_drop:\n",
    "        df_2017_clean.drop(columns=existing_cols_to_drop, inplace=True)\n",
    "        logging.info(f\"Columnas eliminadas de df_2017_clean: {existing_cols_to_drop}\")\n",
    "        print(f\"\\nColumnas eliminadas de df_2017_clean: {existing_cols_to_drop}\")\n",
    "    else:\n",
    "        logging.info(\"No se encontraron columnas para eliminar en df_2017_clean o ya fueron eliminadas.\")\n",
    "        print(\"\\nNo se encontraron columnas especificadas para eliminar en df_2017_clean.\")\n",
    "    \n",
    "    logging.info(f\"Columnas restantes en df_2017_clean: {df_2017_clean.columns.tolist()}\")\n",
    "    print(\"DataFrame df_2017_clean después de eliminar columnas:\")\n",
    "    print(df_2017_clean.head(2).to_markdown(index=False))\n",
    "else:\n",
    "    logging.error(\"df_2017_clean no está cargado. No se pueden eliminar columnas.\")"
   ]
  },
  {
   "cell_type": "code",
   "execution_count": 9,
   "id": "7e3072ad",
   "metadata": {},
   "outputs": [
    {
     "name": "stderr",
     "output_type": "stream",
     "text": [
      "2025-05-21 23:25:08,069 - INFO - Columna 'year' con valor 2017 añadida a df_2017_clean.\n"
     ]
    },
    {
     "name": "stdout",
     "output_type": "stream",
     "text": [
      "\n",
      "DataFrame df_2017_clean con la columna 'year':\n",
      "| country   |   happiness_rank |   happiness_score |   economy_gdp_per_capita |   social_support |   health_life_expectancy |   freedom_to_make_life_choices |   generosity |   perceptions_of_corruption | region         |   year |\n",
      "|:----------|-----------------:|------------------:|-------------------------:|-----------------:|-------------------------:|-------------------------------:|-------------:|----------------------------:|:---------------|-------:|\n",
      "| Norway    |                1 |             7.537 |                  1.61646 |          1.53352 |                 0.796667 |                       0.635423 |     0.362012 |                    0.315964 | Western Europe |   2017 |\n",
      "| Denmark   |                2 |             7.522 |                  1.48238 |          1.55112 |                 0.792566 |                       0.626007 |     0.35528  |                    0.40077  | Western Europe |   2017 |\n"
     ]
    }
   ],
   "source": [
    "# --- Añadir Columna 'year' ---\n",
    "if df_2017_clean is not None:\n",
    "    df_2017_clean['year'] = 2017 # Actualizado\n",
    "    logging.info(\"Columna 'year' con valor 2017 añadida a df_2017_clean.\")\n",
    "    print(\"\\nDataFrame df_2017_clean con la columna 'year':\")\n",
    "    print(df_2017_clean.head(2).to_markdown(index=False))\n",
    "else:\n",
    "    logging.error(\"df_2017_clean no está cargado. No se puede añadir la columna 'year'.\")"
   ]
  },
  {
   "cell_type": "code",
   "execution_count": 10,
   "id": "16966980",
   "metadata": {},
   "outputs": [
    {
     "name": "stderr",
     "output_type": "stream",
     "text": [
      "2025-05-21 23:25:08,078 - INFO - Espacios extra eliminados de la columna 'country' en df_2017_clean.\n"
     ]
    },
    {
     "name": "stdout",
     "output_type": "stream",
     "text": [
      "\n",
      "DataFrame df_2017_clean después de limpiar valores de 'country' (si aplica):\n",
      "| country   |   happiness_rank |   happiness_score |   economy_gdp_per_capita |   social_support |   health_life_expectancy |   freedom_to_make_life_choices |   generosity |   perceptions_of_corruption | region         |   year |\n",
      "|:----------|-----------------:|------------------:|-------------------------:|-----------------:|-------------------------:|-------------------------------:|-------------:|----------------------------:|:---------------|-------:|\n",
      "| Norway    |                1 |             7.537 |                  1.61646 |          1.53352 |                 0.796667 |                       0.635423 |     0.362012 |                    0.315964 | Western Europe |   2017 |\n",
      "| Denmark   |                2 |             7.522 |                  1.48238 |          1.55112 |                 0.792566 |                       0.626007 |     0.35528  |                    0.40077  | Western Europe |   2017 |\n"
     ]
    }
   ],
   "source": [
    "# --- Limpieza de Valores en Columna 'country' (Ejemplo) ---\n",
    "if df_2017_clean is not None:\n",
    "    if 'country' in df_2017_clean.columns:\n",
    "        df_2017_clean['country'] = df_2017_clean['country'].str.strip()\n",
    "        logging.info(\"Espacios extra eliminados de la columna 'country' en df_2017_clean.\")\n",
    "    \n",
    "    print(\"\\nDataFrame df_2017_clean después de limpiar valores de 'country' (si aplica):\")\n",
    "    print(df_2017_clean.head(2).to_markdown(index=False))\n",
    "else:\n",
    "    logging.error(\"df_2017_clean no está cargado. No se puede limpiar valores de columnas.\")"
   ]
  },
  {
   "cell_type": "code",
   "execution_count": 11,
   "id": "4bf9d2f2",
   "metadata": {},
   "outputs": [
    {
     "name": "stderr",
     "output_type": "stream",
     "text": [
      "2025-05-21 23:25:08,088 - INFO - Iniciando reordenamiento de columnas para df_2017_clean.\n",
      "2025-05-21 23:25:08,089 - INFO - Columnas reordenadas exitosamente para df_2017_clean. Nuevo orden: ['year', 'region', 'country', 'happiness_rank', 'happiness_score', 'social_support', 'health_life_expectancy', 'generosity', 'freedom_to_make_life_choices', 'economy_gdp_per_capita', 'perceptions_of_corruption']\n"
     ]
    },
    {
     "name": "stdout",
     "output_type": "stream",
     "text": [
      "\n",
      "DataFrame df_2017_clean después de reordenar columnas:\n",
      "|   year | region         | country   |   happiness_rank |   happiness_score |   social_support |   health_life_expectancy |   generosity |   freedom_to_make_life_choices |   economy_gdp_per_capita |   perceptions_of_corruption |\n",
      "|-------:|:---------------|:----------|-----------------:|------------------:|-----------------:|-------------------------:|-------------:|-------------------------------:|-------------------------:|----------------------------:|\n",
      "|   2017 | Western Europe | Norway    |                1 |             7.537 |          1.53352 |                 0.796667 |     0.362012 |                       0.635423 |                  1.61646 |                    0.315964 |\n",
      "|   2017 | Western Europe | Denmark   |                2 |             7.522 |          1.55112 |                 0.792566 |     0.35528  |                       0.626007 |                  1.48238 |                    0.40077  |\n"
     ]
    }
   ],
   "source": [
    "# --- Reordenamiento de Columnas para df_2017_clean ---\n",
    "if df_2017_clean is not None:\n",
    "    logging.info(\"Iniciando reordenamiento de columnas para df_2017_clean.\")\n",
    "    \n",
    "    desired_column_order = [\n",
    "        'year', 'region', 'country', 'happiness_rank', 'happiness_score',\n",
    "        'social_support', 'health_life_expectancy', 'generosity',\n",
    "        'freedom_to_make_life_choices', 'economy_gdp_per_capita',\n",
    "        'perceptions_of_corruption'\n",
    "    ]\n",
    "    \n",
    "    existing_columns_in_df = df_2017_clean.columns.tolist()\n",
    "    final_column_order_2017 = [col for col in desired_column_order if col in existing_columns_in_df]\n",
    "    \n",
    "    missing_desired_cols = [col for col in desired_column_order if col not in final_column_order_2017]\n",
    "    if missing_desired_cols:\n",
    "        logging.warning(f\"Las siguientes columnas deseadas no se encontraron en df_2017_clean: {missing_desired_cols}\")\n",
    "\n",
    "    extra_cols_in_df = [col for col in existing_columns_in_df if col not in final_column_order_2017]\n",
    "    if extra_cols_in_df:\n",
    "        logging.warning(f\"Las siguientes columnas existen en df_2017_clean pero no están en el orden deseado y serán eliminadas: {extra_cols_in_df}\")\n",
    "\n",
    "    try:\n",
    "        df_2017_clean = df_2017_clean[final_column_order_2017]\n",
    "        logging.info(f\"Columnas reordenadas exitosamente para df_2017_clean. Nuevo orden: {df_2017_clean.columns.tolist()}\")\n",
    "        print(\"\\nDataFrame df_2017_clean después de reordenar columnas:\")\n",
    "        print(df_2017_clean.head(2).to_markdown(index=False))\n",
    "    except KeyError as e:\n",
    "        logging.error(f\"Error al reordenar columnas en df_2017_clean: {e}\")\n",
    "else:\n",
    "    logging.error(\"df_2017_clean no está cargado. No se puede reordenar columnas.\")"
   ]
  },
  {
   "cell_type": "code",
   "execution_count": 12,
   "id": "b1aa06f1",
   "metadata": {},
   "outputs": [
    {
     "name": "stderr",
     "output_type": "stream",
     "text": [
      "2025-05-21 23:25:08,097 - INFO - Mostrando información final de df_2017_clean (tipos de datos).\n"
     ]
    },
    {
     "name": "stdout",
     "output_type": "stream",
     "text": [
      "\n",
      "Información final del DataFrame df_2017_clean:\n",
      "<class 'pandas.core.frame.DataFrame'>\n",
      "RangeIndex: 155 entries, 0 to 154\n",
      "Data columns (total 11 columns):\n",
      " #   Column                        Non-Null Count  Dtype  \n",
      "---  ------                        --------------  -----  \n",
      " 0   year                          155 non-null    int64  \n",
      " 1   region                        155 non-null    object \n",
      " 2   country                       155 non-null    object \n",
      " 3   happiness_rank                155 non-null    int64  \n",
      " 4   happiness_score               155 non-null    float64\n",
      " 5   social_support                155 non-null    float64\n",
      " 6   health_life_expectancy        155 non-null    float64\n",
      " 7   generosity                    155 non-null    float64\n",
      " 8   freedom_to_make_life_choices  155 non-null    float64\n",
      " 9   economy_gdp_per_capita        155 non-null    float64\n",
      " 10  perceptions_of_corruption     155 non-null    float64\n",
      "dtypes: float64(7), int64(2), object(2)\n",
      "memory usage: 13.4+ KB\n"
     ]
    }
   ],
   "source": [
    "# --- Verificación de Tipos de Datos Final (df_2017_clean) ---\n",
    "if df_2017_clean is not None:\n",
    "    logging.info(\"Mostrando información final de df_2017_clean (tipos de datos).\")\n",
    "    print(\"\\nInformación final del DataFrame df_2017_clean:\")\n",
    "    df_2017_clean.info()\n",
    "else:\n",
    "    logging.error(\"df_2017_clean no está cargado.\")"
   ]
  },
  {
   "cell_type": "code",
   "execution_count": 13,
   "id": "9822fdec",
   "metadata": {},
   "outputs": [
    {
     "name": "stderr",
     "output_type": "stream",
     "text": [
      "2025-05-21 23:25:08,131 - INFO - DataFrame limpio df_2017_clean guardado en: /home/nicolas/Escritorio/workshops_ETL/workshop_3/data/processed/2017_cleaned.csv\n"
     ]
    },
    {
     "name": "stdout",
     "output_type": "stream",
     "text": [
      "\n",
      "DataFrame limpio df_2017_clean guardado en: /home/nicolas/Escritorio/workshops_ETL/workshop_3/data/processed/2017_cleaned.csv\n"
     ]
    }
   ],
   "source": [
    "# --- Guardar el DataFrame Limpio df_2017_clean (Opcional) ---\n",
    "if df_2017_clean is not None:\n",
    "    output_path_2017 = \"/home/nicolas/Escritorio/workshops_ETL/workshop_3/data/processed/2017_cleaned.csv\" # Actualizado\n",
    "    try:\n",
    "        df_2017_clean.to_csv(output_path_2017, index=False)\n",
    "        logging.info(f\"DataFrame limpio df_2017_clean guardado en: {output_path_2017}\")\n",
    "        print(f\"\\nDataFrame limpio df_2017_clean guardado en: {output_path_2017}\")\n",
    "    except Exception as e:\n",
    "        logging.error(f\"Error al guardar el DataFrame limpio df_2017_clean: {e}\")\n",
    "else:\n",
    "    logging.error(\"df_2017_clean no está cargado. No se puede guardar.\")"
   ]
  }
 ],
 "metadata": {
  "kernelspec": {
   "display_name": "venv",
   "language": "python",
   "name": "python3"
  },
  "language_info": {
   "codemirror_mode": {
    "name": "ipython",
    "version": 3
   },
   "file_extension": ".py",
   "mimetype": "text/x-python",
   "name": "python",
   "nbconvert_exporter": "python",
   "pygments_lexer": "ipython3",
   "version": "3.10.12"
  }
 },
 "nbformat": 4,
 "nbformat_minor": 5
}
